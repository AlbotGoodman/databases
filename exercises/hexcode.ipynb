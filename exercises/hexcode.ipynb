{
 "cells": [
  {
   "cell_type": "code",
   "execution_count": 42,
   "id": "3cb9d323",
   "metadata": {},
   "outputs": [],
   "source": [
    "def rgb_to_hex(red, green, blue):\n",
    "    \n",
    "    hex = \"#\"\n",
    "    dic = {10: \"A\", 11: \"B\", 12: \"C\", 13: \"D\", 14: \"E\", 15: \"F\"}\n",
    "    for i in [red, green, blue]:\n",
    "        result = i / 16\n",
    "        integer = int(result)\n",
    "        decimal = int((result - integer) * 16)\n",
    "        for j in [integer, decimal]:\n",
    "            if j < 10:\n",
    "                hex += str(j)\n",
    "            else: \n",
    "                hex += str(dic[j])\n",
    "    return hex"
   ]
  },
  {
   "cell_type": "code",
   "execution_count": 43,
   "id": "e304d102",
   "metadata": {},
   "outputs": [],
   "source": [
    "# 201, 20, 60 is #C9143C"
   ]
  },
  {
   "cell_type": "code",
   "execution_count": 44,
   "id": "72e08c22",
   "metadata": {},
   "outputs": [
    {
     "name": "stdout",
     "output_type": "stream",
     "text": [
      "#C9143C\n"
     ]
    }
   ],
   "source": [
    "temp = rgb_to_hex(201, 20, 60)\n",
    "print(temp)"
   ]
  }
 ],
 "metadata": {
  "kernelspec": {
   "display_name": ".venv",
   "language": "python",
   "name": "python3"
  },
  "language_info": {
   "codemirror_mode": {
    "name": "ipython",
    "version": 3
   },
   "file_extension": ".py",
   "mimetype": "text/x-python",
   "name": "python",
   "nbconvert_exporter": "python",
   "pygments_lexer": "ipython3",
   "version": "3.13.3"
  }
 },
 "nbformat": 4,
 "nbformat_minor": 5
}
