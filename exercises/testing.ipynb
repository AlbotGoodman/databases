{
 "cells": [
  {
   "cell_type": "markdown",
   "id": "fc9eb455",
   "metadata": {},
   "source": [
    "# Hexcode"
   ]
  },
  {
   "cell_type": "code",
   "execution_count": 42,
   "id": "3cb9d323",
   "metadata": {},
   "outputs": [],
   "source": [
    "def rgb_to_hex(red, green, blue):\n",
    "    \n",
    "    hex = \"#\"\n",
    "    dic = {10: \"A\", 11: \"B\", 12: \"C\", 13: \"D\", 14: \"E\", 15: \"F\"}\n",
    "    for i in [red, green, blue]:\n",
    "        result = i / 16\n",
    "        integer = int(result)\n",
    "        decimal = int((result - integer) * 16)\n",
    "        for j in [integer, decimal]:\n",
    "            if j < 10:\n",
    "                hex += str(j)\n",
    "            else: \n",
    "                hex += str(dic[j])\n",
    "    return hex"
   ]
  },
  {
   "cell_type": "code",
   "execution_count": 43,
   "id": "e304d102",
   "metadata": {},
   "outputs": [],
   "source": [
    "# 201, 20, 60 is #C9143C"
   ]
  },
  {
   "cell_type": "code",
   "execution_count": 44,
   "id": "72e08c22",
   "metadata": {},
   "outputs": [
    {
     "name": "stdout",
     "output_type": "stream",
     "text": [
      "#C9143C\n"
     ]
    }
   ],
   "source": [
    "temp = rgb_to_hex(201, 20, 60)\n",
    "print(temp)"
   ]
  },
  {
   "cell_type": "markdown",
   "id": "31f236b7",
   "metadata": {},
   "source": [
    "# Gender"
   ]
  },
  {
   "cell_type": "code",
   "execution_count": 18,
   "id": "da9a7d1b",
   "metadata": {},
   "outputs": [
    {
     "name": "stdout",
     "output_type": "stream",
     "text": [
      "5006034268 is female.\n",
      "5006076521 is female.\n",
      "5304077989 is female.\n",
      "5307207675 is male.\n"
     ]
    }
   ],
   "source": [
    "people = [\n",
    "    5006034268,\n",
    "    5006076521,\n",
    "    5304077989,\n",
    "    5307207675\n",
    "]\n",
    "\n",
    "for p in people:\n",
    "    gen = str(p)\n",
    "    gen = int(gen[-2])\n",
    "    if gen % 2 == 0:\n",
    "        print(f\"{p} is female.\")\n",
    "    else:\n",
    "        print(f\"{p} is male.\")"
   ]
  }
 ],
 "metadata": {
  "kernelspec": {
   "display_name": ".venv",
   "language": "python",
   "name": "python3"
  },
  "language_info": {
   "codemirror_mode": {
    "name": "ipython",
    "version": 3
   },
   "file_extension": ".py",
   "mimetype": "text/x-python",
   "name": "python",
   "nbconvert_exporter": "python",
   "pygments_lexer": "ipython3",
   "version": "3.13.3"
  }
 },
 "nbformat": 4,
 "nbformat_minor": 5
}
