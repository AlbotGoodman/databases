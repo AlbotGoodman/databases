{
 "cells": [
  {
   "cell_type": "markdown",
   "id": "024ff1cc",
   "metadata": {},
   "source": [
    "# 1 Dependencies"
   ]
  },
  {
   "cell_type": "code",
   "execution_count": 1,
   "id": "69c06ec9",
   "metadata": {},
   "outputs": [],
   "source": [
    "from datetime import date\n",
    "from typing import Optional, List\n",
    "from sqlalchemy import create_engine, text, Integer, BigInteger, String, ForeignKey, Date, CheckConstraint\n",
    "from sqlalchemy.engine import URL\n",
    "from sqlalchemy.orm import DeclarativeBase, Mapped, mapped_column, relationship, Session\n",
    "from sqlalchemy.exc import ProgrammingError\n",
    "import pandas as pd"
   ]
  },
  {
   "cell_type": "markdown",
   "id": "c8528166",
   "metadata": {},
   "source": [
    "# 2 Create a database"
   ]
  },
  {
   "cell_type": "code",
   "execution_count": 2,
   "id": "95bc7f37",
   "metadata": {},
   "outputs": [
    {
     "name": "stdout",
     "output_type": "stream",
     "text": [
      "\n",
      "Connection to bookstore successful!\n"
     ]
    }
   ],
   "source": [
    "server_name = \"Alstation\"\n",
    "database_name = \"bookstore\"\n",
    "username = \"sa\"\n",
    "password = \"D@tabases\"\n",
    "\n",
    "def get_engine(server: str, username: str, password: str, database: Optional[str] = None):\n",
    "    if database:\n",
    "        conn_str = f\"DRIVER={{ODBC Driver 17 for SQL Server}};SERVER={server};DATABASE={database};UID={username};PWD={password}\"\n",
    "    else:\n",
    "        conn_str = f\"DRIVER={{ODBC Driver 17 for SQL Server}};SERVER={server};UID={username};PWD={password}\"\n",
    "    url = URL.create(\"mssql+pyodbc\", query={\"odbc_connect\": conn_str})\n",
    "    return create_engine(url)\n",
    "\n",
    "# Connect to the server (without specifying database)\n",
    "server_engine = get_engine(server_name, username, password)\n",
    "\n",
    "try:\n",
    "    with server_engine.connect().execution_options(isolation_level=\"AUTOCOMMIT\") as conn:\n",
    "        conn.execute(text(f\"CREATE DATABASE {database_name}\"))\n",
    "except ProgrammingError as err:\n",
    "    err_string = str(err)\n",
    "    if \"'bookstore' already exists\" in err_string:\n",
    "        print(f\"A database named \\\"{database_name}\\\" already exists.\")\n",
    "    else:\n",
    "        print(err)\n",
    "\n",
    "# Connect to the database\n",
    "engine = get_engine(server_name, username, password, database_name)\n",
    "print(f\"\\nConnection to {database_name} successful!\")"
   ]
  },
  {
   "cell_type": "markdown",
   "id": "4b628a18",
   "metadata": {},
   "source": [
    "# 3 Create tables"
   ]
  },
  {
   "cell_type": "code",
   "execution_count": 3,
   "id": "71f318e9",
   "metadata": {},
   "outputs": [],
   "source": [
    "class Base(DeclarativeBase):\n",
    "    pass\n",
    "\n",
    "class Authors(Base):\n",
    "    __tablename__ = \"authors\"\n",
    "\n",
    "    id: Mapped[int] = mapped_column(primary_key=True)\n",
    "    first_name: Mapped[str] = mapped_column(String(30))\n",
    "    last_name: Mapped[str] = mapped_column(String(30))\n",
    "    birth_date: Mapped[Optional[date]] = mapped_column(Date)\n",
    "\n",
    "    books: Mapped[List[\"Books\"]] = relationship(back_populates=\"authors\", cascade=\"all, delete-orphan\")  # deleting an author deletes all their books\n",
    "    bookauthors: Mapped[\"BookAuthors\"] = relationship(back_populates=\"authors\")\n",
    "\n",
    "class Books(Base):\n",
    "    __tablename__ = \"books\"\n",
    "    __table_args__ = (\n",
    "        CheckConstraint(\"price > 0\", name=\"check_price_positive\"),\n",
    "        CheckConstraint(\"isbn between 1000000000000 and 9999999999999\", name=\"check_isbn_length\")\n",
    "    )\n",
    "\n",
    "    isbn: Mapped[int] = mapped_column(BigInteger, primary_key=True, autoincrement=False)\n",
    "    title: Mapped[str] = mapped_column(String(100))\n",
    "    language: Mapped[Optional[str]] = mapped_column(String(30))\n",
    "    price: Mapped[int] = mapped_column(Integer)\n",
    "    publication_date: Mapped[Optional[date]] = mapped_column(Date)\n",
    "\n",
    "    authors: Mapped[\"Authors\"] = relationship(back_populates=\"books\")\n",
    "    inventory: Mapped[List[\"Inventory\"]] = relationship(back_populates=\"books\", cascade=\"all, delete-orphan\")  # deleting a book deletes its inventory\n",
    "    bookauthors: Mapped[List[\"BookAuthors\"]] = relationship(back_populates=\"books\", cascade=\"all, delete-orphan\")  # deleting a book deletes its mentions in BookAuthors\n",
    "    orderdetails: Mapped[\"OrderDetails\"] = relationship(back_populates=\"books\")\n",
    "    reviews: Mapped[List[\"Reviews\"]] = relationship(back_populates=\"books\", cascade=\"all, delete-orphan\")  # deleting a book deletes its reviews\n",
    "\n",
    "class Stores(Base):\n",
    "    __tablename__ = \"stores\"\n",
    "\n",
    "    id: Mapped[int] = mapped_column(primary_key=True)\n",
    "    name: Mapped[str] = mapped_column(String(50))\n",
    "    address: Mapped[Optional[str]] = mapped_column(String(100))\n",
    "\n",
    "    inventory: Mapped[List[\"Inventory\"]] = relationship(back_populates=\"stores\", cascade=\"all, delete-orphan\")  # deleting a store deletes it's inventory\n",
    "\n",
    "class Inventory(Base):\n",
    "    __tablename__ = \"inventory\"\n",
    "\n",
    "    store_id: Mapped[int] = mapped_column(ForeignKey(\"stores.id\"), primary_key=True)\n",
    "    isbn: Mapped[int] = mapped_column(BigInteger, ForeignKey(\"books.isbn\"), primary_key=True)\n",
    "    amount: Mapped[int] = mapped_column(Integer, default=0)\n",
    "\n",
    "    books: Mapped[\"Books\"] = relationship(back_populates=\"inventory\")\n",
    "    stores: Mapped[\"Stores\"] = relationship(back_populates=\"inventory\")\n",
    "\n",
    "class BookAuthors(Base):\n",
    "    __tablename__ = \"book_authors\"\n",
    "\n",
    "    isbn: Mapped[int] = mapped_column(BigInteger, ForeignKey(\"books.isbn\"), primary_key=True)\n",
    "    author_id: Mapped[int] = mapped_column(ForeignKey(\"authors.id\"), primary_key=True)\n",
    "    role: Mapped[Optional[str]] = mapped_column(String(20))\n",
    "\n",
    "    books: Mapped[\"Books\"] = relationship(back_populates=\"bookauthors\")\n",
    "    authors: Mapped[\"Authors\"] = relationship(back_populates=\"bookauthors\")\n",
    "\n",
    "class Customers(Base):\n",
    "    __tablename__ = \"customers\"\n",
    "    __table_args__ = (\n",
    "        CheckConstraint(\"email like '%@%.%'\", name=\"check_customers_email_format\"),\n",
    "    )\n",
    "\n",
    "    id: Mapped[int] = mapped_column(Integer, primary_key=True)\n",
    "    first_name: Mapped[str] = mapped_column(String(30))\n",
    "    last_name: Mapped[str] = mapped_column(String(30))\n",
    "    email: Mapped[str] = mapped_column(String(80))\n",
    "    membership_level: Mapped[str] = mapped_column(String(8))\n",
    "\n",
    "    orders: Mapped[List[\"Orders\"]] = relationship(back_populates=\"customers\", cascade=\"all, delete-orphan\")  # deleting a customer deletes their orders\n",
    "    reviews: Mapped[List[\"Reviews\"]] = relationship(back_populates=\"customers\", cascade=\"all, delete-orphan\")  # deleting a customer deletes their reviews\n",
    "\n",
    "class Orders(Base):\n",
    "    __tablename__ = \"orders\"\n",
    "\n",
    "    id: Mapped[int] = mapped_column(Integer, primary_key=True)\n",
    "    customer_id: Mapped[int] = mapped_column(ForeignKey(\"customers.id\"))\n",
    "    order_date: Mapped[date] = mapped_column(Date)\n",
    "\n",
    "    customers: Mapped[\"Customers\"] = relationship(back_populates=\"orders\")\n",
    "    order_details: Mapped[List[\"OrderDetails\"]] = relationship(back_populates=\"orders\", cascade=\"all, delete-orphan\")  # deleting an order deletes its order details\n",
    "\n",
    "class OrderDetails(Base):\n",
    "    __tablename__ = \"order_details\"\n",
    "\n",
    "    order_id: Mapped[int] = mapped_column(ForeignKey(\"orders.id\"), primary_key=True)\n",
    "    isbn: Mapped[int] = mapped_column(BigInteger, ForeignKey(\"books.isbn\"), primary_key=True)\n",
    "    quantity: Mapped[int] = mapped_column(Integer)\n",
    "\n",
    "    orders: Mapped[\"Orders\"] = relationship(back_populates=\"order_details\")\n",
    "    books: Mapped[\"Books\"] = relationship(back_populates=\"order_details\")\n",
    "\n",
    "class Reviews(Base):\n",
    "    __tablename__ = \"reviews\"\n",
    "\n",
    "    isbn: Mapped[int] = mapped_column(BigInteger, ForeignKey(\"books.isbn\"), primary_key=True)\n",
    "    customer_id: Mapped[int] = mapped_column(ForeignKey(\"customers.id\"), primary_key=True)\n",
    "    rating: Mapped[int] = mapped_column(Integer)\n",
    "\n",
    "    books: Mapped[\"Books\"] = relationship(back_populates=\"reviews\")\n",
    "    customers: Mapped[\"Customers\"] = relationship(back_populates=\"reviews\")\n",
    "\n",
    "\n",
    "Base.metadata.create_all(engine)"
   ]
  },
  {
   "cell_type": "markdown",
   "id": "d2630a38",
   "metadata": {},
   "source": [
    "# 3 Uploading data"
   ]
  },
  {
   "cell_type": "code",
   "execution_count": 4,
   "id": "e67d5e6f",
   "metadata": {},
   "outputs": [],
   "source": [
    "# table_names = [table.name for table in Base.metadata.sorted_tables]\n",
    "# csv_paths = [f\"data/{table}.csv\" for table in table_names]\n",
    "# column_names = [[col.name for col in cls.__table__.columns] for cls in Base.__subclasses__()]\n",
    "\n",
    "# for table, path, cols in zip(table_names, csv_paths, column_names):\n",
    "#     df = pd.read_csv(path, names=cols, header=0)\n",
    "#     df.to_sql(name=table, con=engine, if_exists=\"append\", index=False)"
   ]
  },
  {
   "cell_type": "code",
   "execution_count": 5,
   "id": "8f6d601c",
   "metadata": {},
   "outputs": [],
   "source": [
    "table_names = [table for table in Base.metadata.tables]\n",
    "csv_paths = [f\"data/{table}.csv\" for table in table_names]\n",
    "column_names = [[col.name for col in cls.__table__.columns] for cls in Base.__subclasses__()]\n",
    "identity_tables = [\"authors\", \"stores\", \"customers\", \"orders\"]\n",
    "\n",
    "for table, path, cols in zip(table_names, csv_paths, column_names):\n",
    "    df = pd.read_csv(path, names=cols, header=0)\n",
    "    if table in identity_tables and \"id\" in df.columns:\n",
    "        df = df.drop(columns=[\"id\"])\n",
    "    df.to_sql(name=table, con=engine, if_exists=\"append\", index=False)"
   ]
  },
  {
   "cell_type": "code",
   "execution_count": 6,
   "id": "d0cd0e87",
   "metadata": {},
   "outputs": [],
   "source": [
    "# engine.dispose()  # now the database is no longer in use"
   ]
  }
 ],
 "metadata": {
  "kernelspec": {
   "display_name": ".venv",
   "language": "python",
   "name": "python3"
  },
  "language_info": {
   "codemirror_mode": {
    "name": "ipython",
    "version": 3
   },
   "file_extension": ".py",
   "mimetype": "text/x-python",
   "name": "python",
   "nbconvert_exporter": "python",
   "pygments_lexer": "ipython3",
   "version": "3.13.3"
  }
 },
 "nbformat": 4,
 "nbformat_minor": 5
}
