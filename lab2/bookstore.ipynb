{
 "cells": [
  {
   "cell_type": "markdown",
   "id": "024ff1cc",
   "metadata": {},
   "source": [
    "# 1 Dependencies"
   ]
  },
  {
   "cell_type": "code",
   "execution_count": 1,
   "id": "69c06ec9",
   "metadata": {},
   "outputs": [],
   "source": [
    "from datetime import date\n",
    "from typing import Optional, List\n",
    "from sqlalchemy import create_engine, text, Integer, BigInteger, String, ForeignKey, Date, CheckConstraint\n",
    "from sqlalchemy.engine import URL\n",
    "from sqlalchemy.orm import DeclarativeBase, Mapped, mapped_column, relationship, Session\n",
    "from sqlalchemy.exc import ProgrammingError\n",
    "import pandas as pd"
   ]
  },
  {
   "cell_type": "markdown",
   "id": "c8528166",
   "metadata": {},
   "source": [
    "# 2 Create a database"
   ]
  },
  {
   "cell_type": "code",
   "execution_count": 2,
   "id": "95bc7f37",
   "metadata": {},
   "outputs": [
    {
     "name": "stdout",
     "output_type": "stream",
     "text": [
      "\n",
      "Connection successful!\n"
     ]
    }
   ],
   "source": [
    "server_name = \"Alstation\"\n",
    "database_name = \"bookstore\"\n",
    "username = \"sa\"\n",
    "password = \"D@tabases\"\n",
    "\n",
    "def get_engine(server: str, username: str, password: str, database: Optional[str] = None):\n",
    "    if database:\n",
    "        conn_str = f\"DRIVER={{ODBC Driver 17 for SQL Server}};SERVER={server};DATABASE={database};UID={username};PWD={password}\"\n",
    "    else:\n",
    "        conn_str = f\"DRIVER={{ODBC Driver 17 for SQL Server}};SERVER={server};UID={username};PWD={password}\"\n",
    "    url = URL.create(\"mssql+pyodbc\", query={\"odbc_connect\": conn_str})\n",
    "    return create_engine(url)\n",
    "\n",
    "# Connect to the server (without specifying database)\n",
    "server_engine = get_engine(server_name, username, password)\n",
    "\n",
    "try:\n",
    "    with server_engine.connect().execution_options(isolation_level=\"AUTOCOMMIT\") as conn:\n",
    "        conn.execute(text(f\"CREATE DATABASE {database_name}\"))\n",
    "except ProgrammingError as err:\n",
    "    err_string = str(err)\n",
    "    if \"'bookstore' already exists\" in err_string:\n",
    "        print(f\"A database named \\\"{database_name}\\\" already exists.\")\n",
    "    else:\n",
    "        print(err)\n",
    "\n",
    "# Connect to the database\n",
    "engine = get_engine(server_name, username, password, database_name)\n",
    "print(\"\\nConnection successful!\")"
   ]
  },
  {
   "cell_type": "markdown",
   "id": "4b628a18",
   "metadata": {},
   "source": [
    "# 3 Create tables"
   ]
  },
  {
   "cell_type": "code",
   "execution_count": 3,
   "id": "71f318e9",
   "metadata": {},
   "outputs": [],
   "source": [
    "class Base(DeclarativeBase):\n",
    "    pass\n",
    "\n",
    "class Authors(Base):\n",
    "    __tablename__ = \"authors\"\n",
    "\n",
    "    id: Mapped[int] = mapped_column(primary_key=True)\n",
    "    first_name: Mapped[str] = mapped_column(String(30))\n",
    "    last_name: Mapped[str] = mapped_column(String(30))\n",
    "    birth_date: Mapped[Optional[date]] = mapped_column(Date)\n",
    "\n",
    "    books: Mapped[List[\"Books\"]] = relationship(back_populates=\"authors\", cascade=\"all, delete-orphan\")  # deleting an author deletes all their books\n",
    "    bookauthors: Mapped[\"BookAuthors\"] = relationship(back_populates=\"authors\")\n",
    "\n",
    "class Books(Base):\n",
    "    __tablename__ = \"books\"\n",
    "    __table_args__ = (\n",
    "        CheckConstraint(\"price > 0\", name=\"check_price_positive\"),\n",
    "        CheckConstraint(\"isbn between 1000000000000 and 9999999999999\", name=\"check_isbn_length\")\n",
    "    )\n",
    "\n",
    "    isbn: Mapped[int] = mapped_column(BigInteger, primary_key=True, autoincrement=False)\n",
    "    title: Mapped[str] = mapped_column(String(100))\n",
    "    language: Mapped[Optional[str]] = mapped_column(String(30))\n",
    "    price: Mapped[int] = mapped_column(Integer)\n",
    "    publication_date: Mapped[Optional[date]] = mapped_column(Date)\n",
    "\n",
    "    authors: Mapped[\"Authors\"] = relationship(back_populates=\"books\")\n",
    "    inventory: Mapped[List[\"Inventory\"]] = relationship(back_populates=\"books\", cascade=\"all, delete-orphan\")  # deleting a book deletes its inventory\n",
    "    bookauthors: Mapped[List[\"BookAuthors\"]] = relationship(back_populates=\"books\", cascade=\"all, delete-orphan\")  # deleting a book deletes its mentions in BookAuthors\n",
    "    orderdetails: Mapped[\"OrderDetails\"] = relationship(back_populates=\"books\")\n",
    "    reviews: Mapped[List[\"Reviews\"]] = relationship(back_populates=\"books\", cascade=\"all, delete-orphan\")  # deleting a book deletes its reviews\n",
    "\n",
    "class Stores(Base):\n",
    "    __tablename__ = \"stores\"\n",
    "\n",
    "    id: Mapped[int] = mapped_column(primary_key=True)\n",
    "    name: Mapped[str] = mapped_column(String(50))\n",
    "    address: Mapped[Optional[str]] = mapped_column(String(100))\n",
    "\n",
    "    inventory: Mapped[List[\"Inventory\"]] = relationship(back_populates=\"stores\", cascade=\"all, delete-orphan\")  # deleting a store deletes it's inventory\n",
    "\n",
    "class Inventory(Base):\n",
    "    __tablename__ = \"inventory\"\n",
    "\n",
    "    store_id: Mapped[int] = mapped_column(ForeignKey(\"stores.id\"), primary_key=True)\n",
    "    isbn: Mapped[int] = mapped_column(BigInteger, ForeignKey(\"books.isbn\"), primary_key=True)\n",
    "    amount: Mapped[int] = mapped_column(Integer, default=0)\n",
    "\n",
    "    books: Mapped[\"Books\"] = relationship(back_populates=\"inventory\")\n",
    "    stores: Mapped[\"Stores\"] = relationship(back_populates=\"inventory\")\n",
    "\n",
    "class BookAuthors(Base):\n",
    "    __tablename__ = \"book_authors\"\n",
    "\n",
    "    isbn: Mapped[int] = mapped_column(BigInteger, ForeignKey(\"books.isbn\"), primary_key=True)\n",
    "    author_id: Mapped[int] = mapped_column(ForeignKey(\"authors.id\"), primary_key=True)\n",
    "    role: Mapped[Optional[str]] = mapped_column(String(20))\n",
    "\n",
    "    books: Mapped[\"Books\"] = relationship(back_populates=\"bookauthors\")\n",
    "    authors: Mapped[\"Authors\"] = relationship(back_populates=\"bookauthors\")\n",
    "\n",
    "class Customers(Base):\n",
    "    __tablename__ = \"customers\"\n",
    "    __table_args__ = (\n",
    "        CheckConstraint(\"email like '%@%.%'\", name=\"check_customers_email_format\"),\n",
    "    )\n",
    "\n",
    "    id: Mapped[int] = mapped_column(Integer, primary_key=True)\n",
    "    first_name: Mapped[str] = mapped_column(String(30))\n",
    "    last_name: Mapped[str] = mapped_column(String(30))\n",
    "    email: Mapped[str] = mapped_column(String(80))\n",
    "    membership_level: Mapped[str] = mapped_column(String(8))\n",
    "\n",
    "    orders: Mapped[List[\"Orders\"]] = relationship(back_populates=\"customers\", cascade=\"all, delete-orphan\")  # deleting a customer deletes their orders\n",
    "    reviews: Mapped[List[\"Reviews\"]] = relationship(back_populates=\"customers\", cascade=\"all, delete-orphan\")  # deleting a customer deletes their reviews\n",
    "\n",
    "class Orders(Base):\n",
    "    __tablename__ = \"orders\"\n",
    "\n",
    "    id: Mapped[int] = mapped_column(Integer, primary_key=True)\n",
    "    customer_id: Mapped[int] = mapped_column(ForeignKey(\"customers.id\"))\n",
    "    order_date: Mapped[date] = mapped_column(Date)\n",
    "\n",
    "    customers: Mapped[\"Customers\"] = relationship(back_populates=\"orders\")\n",
    "    order_details: Mapped[List[\"OrderDetails\"]] = relationship(back_populates=\"orders\", cascade=\"all, delete-orphan\")  # deleting an order deletes its order details\n",
    "\n",
    "class OrderDetails(Base):\n",
    "    __tablename__ = \"order_details\"\n",
    "\n",
    "    order_id: Mapped[int] = mapped_column(ForeignKey(\"orders.id\"), primary_key=True)\n",
    "    isbn: Mapped[int] = mapped_column(BigInteger, ForeignKey(\"books.isbn\"), primary_key=True)\n",
    "    quantity: Mapped[int] = mapped_column(Integer)\n",
    "\n",
    "    orders: Mapped[\"Orders\"] = relationship(back_populates=\"order_details\")\n",
    "    books: Mapped[\"Books\"] = relationship(back_populates=\"order_details\")\n",
    "\n",
    "class Reviews(Base):\n",
    "    __tablename__ = \"reviews\"\n",
    "\n",
    "    isbn: Mapped[int] = mapped_column(BigInteger, ForeignKey(\"books.isbn\"), primary_key=True)\n",
    "    customer_id: Mapped[int] = mapped_column(ForeignKey(\"customers.id\"), primary_key=True)\n",
    "    rating: Mapped[int] = mapped_column(Integer)\n",
    "\n",
    "    books: Mapped[\"Books\"] = relationship(back_populates=\"reviews\")\n",
    "    customers: Mapped[\"Customers\"] = relationship(back_populates=\"reviews\")\n",
    "\n",
    "\n",
    "Base.metadata.create_all(engine)"
   ]
  },
  {
   "cell_type": "markdown",
   "id": "d2630a38",
   "metadata": {},
   "source": [
    "# 3 Uploading data"
   ]
  },
  {
   "cell_type": "code",
   "execution_count": 4,
   "id": "e67d5e6f",
   "metadata": {},
   "outputs": [],
   "source": [
    "# table_names = [table.name for table in Base.metadata.sorted_tables]\n",
    "# csv_paths = [f\"data/{table}.csv\" for table in table_names]\n",
    "# column_names = [[col.name for col in cls.__table__.columns] for cls in Base.__subclasses__()]\n",
    "\n",
    "# for table, path, cols in zip(table_names, csv_paths, column_names):\n",
    "#     df = pd.read_csv(path, names=cols, header=0)\n",
    "#     df.to_sql(name=table, con=engine, if_exists=\"append\", index=False)"
   ]
  },
  {
   "cell_type": "code",
   "execution_count": 5,
   "id": "8f6d601c",
   "metadata": {},
   "outputs": [
    {
     "ename": "IntegrityError",
     "evalue": "(pyodbc.IntegrityError) ('23000', \"[23000] [Microsoft][ODBC Driver 17 for SQL Server][SQL Server]Violation of PRIMARY KEY constraint 'PK__reviews__D52F8C1D1F950072'. Cannot insert duplicate key in object 'dbo.reviews'. The duplicate key value is (9780765376671, 15). (2627) (SQLExecDirectW)\")\n[SQL: INSERT INTO reviews (isbn, customer_id, rating) VALUES (?, ?, ?), (?, ?, ?), (?, ?, ?), (?, ?, ?), (?, ?, ?), (?, ?, ?), (?, ?, ?), (?, ?, ?), (?, ?, ?), (?, ?, ?), (?, ?, ?), (?, ?, ?), (?, ?, ?), (?, ?, ?), (?, ?, ?), (?, ?, ?), (?, ?, ?), (?, ?, ? ... 1001 characters truncated ... ), (?, ?, ?), (?, ?, ?), (?, ?, ?), (?, ?, ?), (?, ?, ?), (?, ?, ?), (?, ?, ?), (?, ?, ?), (?, ?, ?)]\n[parameters: (9780765376671, 15, 5, 9781429949620, 15, 4, 9780765376671, 3, 4, 9780547928227, 1, 3, 9780547952017, 1, 4, 9781250868282, 9, 5, 9781250868299, 9, 4, 9781250868312, 9, 5, 9780553381689, 2, 4, 9780702309519, 4, 3, 9780316310314, 6, 5, 9780439023528, 21, 4, 9780545586177, 21, 4, 9780545663267, 21, 3, 9780765386632, 11, 5, 9780765382030, 11, 4, 9780312854270, 13 ... 254 parameters truncated ... 6, 4, 9780765382030, 11, 5, 9780312854287, 13, 4, 9780765334343, 5, 5, 9781250251497, 17, 3, 9780765386632, 23, 5, 9780702309519, 8, 4, 9781250319180, 15, 5, 9780804179607, 11, 4, 9780765376671, 23, 5, 9780765302304, 19, 5, 9780702309519, 5, 3, 9780316310376, 15, 5, 9781250251497, 19, 4, 9781250297143, 23, 4, 9781250868282, 11, 3, 9780804179607, 19, 5)]\n(Background on this error at: https://sqlalche.me/e/20/gkpj)",
     "output_type": "error",
     "traceback": [
      "\u001b[31m---------------------------------------------------------------------------\u001b[39m",
      "\u001b[31mIntegrityError\u001b[39m                            Traceback (most recent call last)",
      "\u001b[36mFile \u001b[39m\u001b[32m~/coding/repos/databases/.venv/lib/python3.13/site-packages/sqlalchemy/engine/base.py:2114\u001b[39m, in \u001b[36mConnection._exec_insertmany_context\u001b[39m\u001b[34m(self, dialect, context)\u001b[39m\n\u001b[32m   2113\u001b[39m     \u001b[38;5;28;01melse\u001b[39;00m:\n\u001b[32m-> \u001b[39m\u001b[32m2114\u001b[39m         \u001b[43mdialect\u001b[49m\u001b[43m.\u001b[49m\u001b[43mdo_execute\u001b[49m\u001b[43m(\u001b[49m\n\u001b[32m   2115\u001b[39m \u001b[43m            \u001b[49m\u001b[43mcursor\u001b[49m\u001b[43m,\u001b[49m\n\u001b[32m   2116\u001b[39m \u001b[43m            \u001b[49m\u001b[43msub_stmt\u001b[49m\u001b[43m,\u001b[49m\n\u001b[32m   2117\u001b[39m \u001b[43m            \u001b[49m\u001b[43msub_params\u001b[49m\u001b[43m,\u001b[49m\n\u001b[32m   2118\u001b[39m \u001b[43m            \u001b[49m\u001b[43mcontext\u001b[49m\u001b[43m,\u001b[49m\n\u001b[32m   2119\u001b[39m \u001b[43m        \u001b[49m\u001b[43m)\u001b[49m\n\u001b[32m   2121\u001b[39m \u001b[38;5;28;01mexcept\u001b[39;00m \u001b[38;5;167;01mBaseException\u001b[39;00m \u001b[38;5;28;01mas\u001b[39;00m e:\n",
      "\u001b[36mFile \u001b[39m\u001b[32m~/coding/repos/databases/.venv/lib/python3.13/site-packages/sqlalchemy/engine/default.py:943\u001b[39m, in \u001b[36mDefaultDialect.do_execute\u001b[39m\u001b[34m(self, cursor, statement, parameters, context)\u001b[39m\n\u001b[32m    942\u001b[39m \u001b[38;5;28;01mdef\u001b[39;00m\u001b[38;5;250m \u001b[39m\u001b[34mdo_execute\u001b[39m(\u001b[38;5;28mself\u001b[39m, cursor, statement, parameters, context=\u001b[38;5;28;01mNone\u001b[39;00m):\n\u001b[32m--> \u001b[39m\u001b[32m943\u001b[39m     \u001b[43mcursor\u001b[49m\u001b[43m.\u001b[49m\u001b[43mexecute\u001b[49m\u001b[43m(\u001b[49m\u001b[43mstatement\u001b[49m\u001b[43m,\u001b[49m\u001b[43m \u001b[49m\u001b[43mparameters\u001b[49m\u001b[43m)\u001b[49m\n",
      "\u001b[31mIntegrityError\u001b[39m: ('23000', \"[23000] [Microsoft][ODBC Driver 17 for SQL Server][SQL Server]Violation of PRIMARY KEY constraint 'PK__reviews__D52F8C1D1F950072'. Cannot insert duplicate key in object 'dbo.reviews'. The duplicate key value is (9780765376671, 15). (2627) (SQLExecDirectW)\")",
      "\nThe above exception was the direct cause of the following exception:\n",
      "\u001b[31mIntegrityError\u001b[39m                            Traceback (most recent call last)",
      "\u001b[36mCell\u001b[39m\u001b[36m \u001b[39m\u001b[32mIn[5]\u001b[39m\u001b[32m, line 10\u001b[39m\n\u001b[32m      8\u001b[39m \u001b[38;5;28;01mif\u001b[39;00m table \u001b[38;5;129;01min\u001b[39;00m identity_tables \u001b[38;5;129;01mand\u001b[39;00m \u001b[33m\"\u001b[39m\u001b[33mid\u001b[39m\u001b[33m\"\u001b[39m \u001b[38;5;129;01min\u001b[39;00m df.columns:\n\u001b[32m      9\u001b[39m     df = df.drop(columns=[\u001b[33m\"\u001b[39m\u001b[33mid\u001b[39m\u001b[33m\"\u001b[39m])\n\u001b[32m---> \u001b[39m\u001b[32m10\u001b[39m \u001b[43mdf\u001b[49m\u001b[43m.\u001b[49m\u001b[43mto_sql\u001b[49m\u001b[43m(\u001b[49m\u001b[43mname\u001b[49m\u001b[43m=\u001b[49m\u001b[43mtable\u001b[49m\u001b[43m,\u001b[49m\u001b[43m \u001b[49m\u001b[43mcon\u001b[49m\u001b[43m=\u001b[49m\u001b[43mengine\u001b[49m\u001b[43m,\u001b[49m\u001b[43m \u001b[49m\u001b[43mif_exists\u001b[49m\u001b[43m=\u001b[49m\u001b[33;43m\"\u001b[39;49m\u001b[33;43mappend\u001b[39;49m\u001b[33;43m\"\u001b[39;49m\u001b[43m,\u001b[49m\u001b[43m \u001b[49m\u001b[43mindex\u001b[49m\u001b[43m=\u001b[49m\u001b[38;5;28;43;01mFalse\u001b[39;49;00m\u001b[43m)\u001b[49m\n",
      "\u001b[36mFile \u001b[39m\u001b[32m~/coding/repos/databases/.venv/lib/python3.13/site-packages/pandas/util/_decorators.py:333\u001b[39m, in \u001b[36mdeprecate_nonkeyword_arguments.<locals>.decorate.<locals>.wrapper\u001b[39m\u001b[34m(*args, **kwargs)\u001b[39m\n\u001b[32m    327\u001b[39m \u001b[38;5;28;01mif\u001b[39;00m \u001b[38;5;28mlen\u001b[39m(args) > num_allow_args:\n\u001b[32m    328\u001b[39m     warnings.warn(\n\u001b[32m    329\u001b[39m         msg.format(arguments=_format_argument_list(allow_args)),\n\u001b[32m    330\u001b[39m         \u001b[38;5;167;01mFutureWarning\u001b[39;00m,\n\u001b[32m    331\u001b[39m         stacklevel=find_stack_level(),\n\u001b[32m    332\u001b[39m     )\n\u001b[32m--> \u001b[39m\u001b[32m333\u001b[39m \u001b[38;5;28;01mreturn\u001b[39;00m \u001b[43mfunc\u001b[49m\u001b[43m(\u001b[49m\u001b[43m*\u001b[49m\u001b[43margs\u001b[49m\u001b[43m,\u001b[49m\u001b[43m \u001b[49m\u001b[43m*\u001b[49m\u001b[43m*\u001b[49m\u001b[43mkwargs\u001b[49m\u001b[43m)\u001b[49m\n",
      "\u001b[36mFile \u001b[39m\u001b[32m~/coding/repos/databases/.venv/lib/python3.13/site-packages/pandas/core/generic.py:3087\u001b[39m, in \u001b[36mNDFrame.to_sql\u001b[39m\u001b[34m(self, name, con, schema, if_exists, index, index_label, chunksize, dtype, method)\u001b[39m\n\u001b[32m   2889\u001b[39m \u001b[38;5;250m\u001b[39m\u001b[33;03m\"\"\"\u001b[39;00m\n\u001b[32m   2890\u001b[39m \u001b[33;03mWrite records stored in a DataFrame to a SQL database.\u001b[39;00m\n\u001b[32m   2891\u001b[39m \n\u001b[32m   (...)\u001b[39m\u001b[32m   3083\u001b[39m \u001b[33;03m[(1,), (None,), (2,)]\u001b[39;00m\n\u001b[32m   3084\u001b[39m \u001b[33;03m\"\"\"\u001b[39;00m  \u001b[38;5;66;03m# noqa: E501\u001b[39;00m\n\u001b[32m   3085\u001b[39m \u001b[38;5;28;01mfrom\u001b[39;00m\u001b[38;5;250m \u001b[39m\u001b[34;01mpandas\u001b[39;00m\u001b[34;01m.\u001b[39;00m\u001b[34;01mio\u001b[39;00m\u001b[38;5;250m \u001b[39m\u001b[38;5;28;01mimport\u001b[39;00m sql\n\u001b[32m-> \u001b[39m\u001b[32m3087\u001b[39m \u001b[38;5;28;01mreturn\u001b[39;00m \u001b[43msql\u001b[49m\u001b[43m.\u001b[49m\u001b[43mto_sql\u001b[49m\u001b[43m(\u001b[49m\n\u001b[32m   3088\u001b[39m \u001b[43m    \u001b[49m\u001b[38;5;28;43mself\u001b[39;49m\u001b[43m,\u001b[49m\n\u001b[32m   3089\u001b[39m \u001b[43m    \u001b[49m\u001b[43mname\u001b[49m\u001b[43m,\u001b[49m\n\u001b[32m   3090\u001b[39m \u001b[43m    \u001b[49m\u001b[43mcon\u001b[49m\u001b[43m,\u001b[49m\n\u001b[32m   3091\u001b[39m \u001b[43m    \u001b[49m\u001b[43mschema\u001b[49m\u001b[43m=\u001b[49m\u001b[43mschema\u001b[49m\u001b[43m,\u001b[49m\n\u001b[32m   3092\u001b[39m \u001b[43m    \u001b[49m\u001b[43mif_exists\u001b[49m\u001b[43m=\u001b[49m\u001b[43mif_exists\u001b[49m\u001b[43m,\u001b[49m\n\u001b[32m   3093\u001b[39m \u001b[43m    \u001b[49m\u001b[43mindex\u001b[49m\u001b[43m=\u001b[49m\u001b[43mindex\u001b[49m\u001b[43m,\u001b[49m\n\u001b[32m   3094\u001b[39m \u001b[43m    \u001b[49m\u001b[43mindex_label\u001b[49m\u001b[43m=\u001b[49m\u001b[43mindex_label\u001b[49m\u001b[43m,\u001b[49m\n\u001b[32m   3095\u001b[39m \u001b[43m    \u001b[49m\u001b[43mchunksize\u001b[49m\u001b[43m=\u001b[49m\u001b[43mchunksize\u001b[49m\u001b[43m,\u001b[49m\n\u001b[32m   3096\u001b[39m \u001b[43m    \u001b[49m\u001b[43mdtype\u001b[49m\u001b[43m=\u001b[49m\u001b[43mdtype\u001b[49m\u001b[43m,\u001b[49m\n\u001b[32m   3097\u001b[39m \u001b[43m    \u001b[49m\u001b[43mmethod\u001b[49m\u001b[43m=\u001b[49m\u001b[43mmethod\u001b[49m\u001b[43m,\u001b[49m\n\u001b[32m   3098\u001b[39m \u001b[43m\u001b[49m\u001b[43m)\u001b[49m\n",
      "\u001b[36mFile \u001b[39m\u001b[32m~/coding/repos/databases/.venv/lib/python3.13/site-packages/pandas/io/sql.py:842\u001b[39m, in \u001b[36mto_sql\u001b[39m\u001b[34m(frame, name, con, schema, if_exists, index, index_label, chunksize, dtype, method, engine, **engine_kwargs)\u001b[39m\n\u001b[32m    837\u001b[39m     \u001b[38;5;28;01mraise\u001b[39;00m \u001b[38;5;167;01mNotImplementedError\u001b[39;00m(\n\u001b[32m    838\u001b[39m         \u001b[33m\"\u001b[39m\u001b[33m'\u001b[39m\u001b[33mframe\u001b[39m\u001b[33m'\u001b[39m\u001b[33m argument should be either a Series or a DataFrame\u001b[39m\u001b[33m\"\u001b[39m\n\u001b[32m    839\u001b[39m     )\n\u001b[32m    841\u001b[39m \u001b[38;5;28;01mwith\u001b[39;00m pandasSQL_builder(con, schema=schema, need_transaction=\u001b[38;5;28;01mTrue\u001b[39;00m) \u001b[38;5;28;01mas\u001b[39;00m pandas_sql:\n\u001b[32m--> \u001b[39m\u001b[32m842\u001b[39m     \u001b[38;5;28;01mreturn\u001b[39;00m \u001b[43mpandas_sql\u001b[49m\u001b[43m.\u001b[49m\u001b[43mto_sql\u001b[49m\u001b[43m(\u001b[49m\n\u001b[32m    843\u001b[39m \u001b[43m        \u001b[49m\u001b[43mframe\u001b[49m\u001b[43m,\u001b[49m\n\u001b[32m    844\u001b[39m \u001b[43m        \u001b[49m\u001b[43mname\u001b[49m\u001b[43m,\u001b[49m\n\u001b[32m    845\u001b[39m \u001b[43m        \u001b[49m\u001b[43mif_exists\u001b[49m\u001b[43m=\u001b[49m\u001b[43mif_exists\u001b[49m\u001b[43m,\u001b[49m\n\u001b[32m    846\u001b[39m \u001b[43m        \u001b[49m\u001b[43mindex\u001b[49m\u001b[43m=\u001b[49m\u001b[43mindex\u001b[49m\u001b[43m,\u001b[49m\n\u001b[32m    847\u001b[39m \u001b[43m        \u001b[49m\u001b[43mindex_label\u001b[49m\u001b[43m=\u001b[49m\u001b[43mindex_label\u001b[49m\u001b[43m,\u001b[49m\n\u001b[32m    848\u001b[39m \u001b[43m        \u001b[49m\u001b[43mschema\u001b[49m\u001b[43m=\u001b[49m\u001b[43mschema\u001b[49m\u001b[43m,\u001b[49m\n\u001b[32m    849\u001b[39m \u001b[43m        \u001b[49m\u001b[43mchunksize\u001b[49m\u001b[43m=\u001b[49m\u001b[43mchunksize\u001b[49m\u001b[43m,\u001b[49m\n\u001b[32m    850\u001b[39m \u001b[43m        \u001b[49m\u001b[43mdtype\u001b[49m\u001b[43m=\u001b[49m\u001b[43mdtype\u001b[49m\u001b[43m,\u001b[49m\n\u001b[32m    851\u001b[39m \u001b[43m        \u001b[49m\u001b[43mmethod\u001b[49m\u001b[43m=\u001b[49m\u001b[43mmethod\u001b[49m\u001b[43m,\u001b[49m\n\u001b[32m    852\u001b[39m \u001b[43m        \u001b[49m\u001b[43mengine\u001b[49m\u001b[43m=\u001b[49m\u001b[43mengine\u001b[49m\u001b[43m,\u001b[49m\n\u001b[32m    853\u001b[39m \u001b[43m        \u001b[49m\u001b[43m*\u001b[49m\u001b[43m*\u001b[49m\u001b[43mengine_kwargs\u001b[49m\u001b[43m,\u001b[49m\n\u001b[32m    854\u001b[39m \u001b[43m    \u001b[49m\u001b[43m)\u001b[49m\n",
      "\u001b[36mFile \u001b[39m\u001b[32m~/coding/repos/databases/.venv/lib/python3.13/site-packages/pandas/io/sql.py:2018\u001b[39m, in \u001b[36mSQLDatabase.to_sql\u001b[39m\u001b[34m(self, frame, name, if_exists, index, index_label, schema, chunksize, dtype, method, engine, **engine_kwargs)\u001b[39m\n\u001b[32m   2006\u001b[39m sql_engine = get_engine(engine)\n\u001b[32m   2008\u001b[39m table = \u001b[38;5;28mself\u001b[39m.prep_table(\n\u001b[32m   2009\u001b[39m     frame=frame,\n\u001b[32m   2010\u001b[39m     name=name,\n\u001b[32m   (...)\u001b[39m\u001b[32m   2015\u001b[39m     dtype=dtype,\n\u001b[32m   2016\u001b[39m )\n\u001b[32m-> \u001b[39m\u001b[32m2018\u001b[39m total_inserted = \u001b[43msql_engine\u001b[49m\u001b[43m.\u001b[49m\u001b[43minsert_records\u001b[49m\u001b[43m(\u001b[49m\n\u001b[32m   2019\u001b[39m \u001b[43m    \u001b[49m\u001b[43mtable\u001b[49m\u001b[43m=\u001b[49m\u001b[43mtable\u001b[49m\u001b[43m,\u001b[49m\n\u001b[32m   2020\u001b[39m \u001b[43m    \u001b[49m\u001b[43mcon\u001b[49m\u001b[43m=\u001b[49m\u001b[38;5;28;43mself\u001b[39;49m\u001b[43m.\u001b[49m\u001b[43mcon\u001b[49m\u001b[43m,\u001b[49m\n\u001b[32m   2021\u001b[39m \u001b[43m    \u001b[49m\u001b[43mframe\u001b[49m\u001b[43m=\u001b[49m\u001b[43mframe\u001b[49m\u001b[43m,\u001b[49m\n\u001b[32m   2022\u001b[39m \u001b[43m    \u001b[49m\u001b[43mname\u001b[49m\u001b[43m=\u001b[49m\u001b[43mname\u001b[49m\u001b[43m,\u001b[49m\n\u001b[32m   2023\u001b[39m \u001b[43m    \u001b[49m\u001b[43mindex\u001b[49m\u001b[43m=\u001b[49m\u001b[43mindex\u001b[49m\u001b[43m,\u001b[49m\n\u001b[32m   2024\u001b[39m \u001b[43m    \u001b[49m\u001b[43mschema\u001b[49m\u001b[43m=\u001b[49m\u001b[43mschema\u001b[49m\u001b[43m,\u001b[49m\n\u001b[32m   2025\u001b[39m \u001b[43m    \u001b[49m\u001b[43mchunksize\u001b[49m\u001b[43m=\u001b[49m\u001b[43mchunksize\u001b[49m\u001b[43m,\u001b[49m\n\u001b[32m   2026\u001b[39m \u001b[43m    \u001b[49m\u001b[43mmethod\u001b[49m\u001b[43m=\u001b[49m\u001b[43mmethod\u001b[49m\u001b[43m,\u001b[49m\n\u001b[32m   2027\u001b[39m \u001b[43m    \u001b[49m\u001b[43m*\u001b[49m\u001b[43m*\u001b[49m\u001b[43mengine_kwargs\u001b[49m\u001b[43m,\u001b[49m\n\u001b[32m   2028\u001b[39m \u001b[43m\u001b[49m\u001b[43m)\u001b[49m\n\u001b[32m   2030\u001b[39m \u001b[38;5;28mself\u001b[39m.check_case_sensitive(name=name, schema=schema)\n\u001b[32m   2031\u001b[39m \u001b[38;5;28;01mreturn\u001b[39;00m total_inserted\n",
      "\u001b[36mFile \u001b[39m\u001b[32m~/coding/repos/databases/.venv/lib/python3.13/site-packages/pandas/io/sql.py:1567\u001b[39m, in \u001b[36mSQLAlchemyEngine.insert_records\u001b[39m\u001b[34m(self, table, con, frame, name, index, schema, chunksize, method, **engine_kwargs)\u001b[39m\n\u001b[32m   1565\u001b[39m \u001b[38;5;28;01mif\u001b[39;00m re.search(msg, err_text):\n\u001b[32m   1566\u001b[39m     \u001b[38;5;28;01mraise\u001b[39;00m \u001b[38;5;167;01mValueError\u001b[39;00m(\u001b[33m\"\u001b[39m\u001b[33minf cannot be used with MySQL\u001b[39m\u001b[33m\"\u001b[39m) \u001b[38;5;28;01mfrom\u001b[39;00m\u001b[38;5;250m \u001b[39m\u001b[34;01merr\u001b[39;00m\n\u001b[32m-> \u001b[39m\u001b[32m1567\u001b[39m \u001b[38;5;28;01mraise\u001b[39;00m err\n",
      "\u001b[36mFile \u001b[39m\u001b[32m~/coding/repos/databases/.venv/lib/python3.13/site-packages/pandas/io/sql.py:1558\u001b[39m, in \u001b[36mSQLAlchemyEngine.insert_records\u001b[39m\u001b[34m(self, table, con, frame, name, index, schema, chunksize, method, **engine_kwargs)\u001b[39m\n\u001b[32m   1555\u001b[39m \u001b[38;5;28;01mfrom\u001b[39;00m\u001b[38;5;250m \u001b[39m\u001b[34;01msqlalchemy\u001b[39;00m\u001b[38;5;250m \u001b[39m\u001b[38;5;28;01mimport\u001b[39;00m exc\n\u001b[32m   1557\u001b[39m \u001b[38;5;28;01mtry\u001b[39;00m:\n\u001b[32m-> \u001b[39m\u001b[32m1558\u001b[39m     \u001b[38;5;28;01mreturn\u001b[39;00m \u001b[43mtable\u001b[49m\u001b[43m.\u001b[49m\u001b[43minsert\u001b[49m\u001b[43m(\u001b[49m\u001b[43mchunksize\u001b[49m\u001b[43m=\u001b[49m\u001b[43mchunksize\u001b[49m\u001b[43m,\u001b[49m\u001b[43m \u001b[49m\u001b[43mmethod\u001b[49m\u001b[43m=\u001b[49m\u001b[43mmethod\u001b[49m\u001b[43m)\u001b[49m\n\u001b[32m   1559\u001b[39m \u001b[38;5;28;01mexcept\u001b[39;00m exc.StatementError \u001b[38;5;28;01mas\u001b[39;00m err:\n\u001b[32m   1560\u001b[39m     \u001b[38;5;66;03m# GH34431\u001b[39;00m\n\u001b[32m   1561\u001b[39m     \u001b[38;5;66;03m# https://stackoverflow.com/a/67358288/6067848\u001b[39;00m\n\u001b[32m   1562\u001b[39m     msg = \u001b[33mr\u001b[39m\u001b[33m\"\"\"\u001b[39m\u001b[33m(\u001b[39m\u001b[33m\\\u001b[39m\u001b[33m(1054, \u001b[39m\u001b[33m\"\u001b[39m\u001b[33mUnknown column \u001b[39m\u001b[33m'\u001b[39m\u001b[33minf(e0)?\u001b[39m\u001b[33m'\u001b[39m\u001b[33m in \u001b[39m\u001b[33m'\u001b[39m\u001b[33mfield list\u001b[39m\u001b[33m'\u001b[39m\u001b[33m\"\u001b[39m\u001b[33m\\\u001b[39m\u001b[33m))(?#\u001b[39m\n\u001b[32m   1563\u001b[39m \u001b[33m    )|inf can not be used with MySQL\u001b[39m\u001b[33m\"\"\"\u001b[39m\n",
      "\u001b[36mFile \u001b[39m\u001b[32m~/coding/repos/databases/.venv/lib/python3.13/site-packages/pandas/io/sql.py:1119\u001b[39m, in \u001b[36mSQLTable.insert\u001b[39m\u001b[34m(self, chunksize, method)\u001b[39m\n\u001b[32m   1116\u001b[39m     \u001b[38;5;28;01mbreak\u001b[39;00m\n\u001b[32m   1118\u001b[39m chunk_iter = \u001b[38;5;28mzip\u001b[39m(*(arr[start_i:end_i] \u001b[38;5;28;01mfor\u001b[39;00m arr \u001b[38;5;129;01min\u001b[39;00m data_list))\n\u001b[32m-> \u001b[39m\u001b[32m1119\u001b[39m num_inserted = \u001b[43mexec_insert\u001b[49m\u001b[43m(\u001b[49m\u001b[43mconn\u001b[49m\u001b[43m,\u001b[49m\u001b[43m \u001b[49m\u001b[43mkeys\u001b[49m\u001b[43m,\u001b[49m\u001b[43m \u001b[49m\u001b[43mchunk_iter\u001b[49m\u001b[43m)\u001b[49m\n\u001b[32m   1120\u001b[39m \u001b[38;5;66;03m# GH 46891\u001b[39;00m\n\u001b[32m   1121\u001b[39m \u001b[38;5;28;01mif\u001b[39;00m num_inserted \u001b[38;5;129;01mis\u001b[39;00m \u001b[38;5;129;01mnot\u001b[39;00m \u001b[38;5;28;01mNone\u001b[39;00m:\n",
      "\u001b[36mFile \u001b[39m\u001b[32m~/coding/repos/databases/.venv/lib/python3.13/site-packages/pandas/io/sql.py:1010\u001b[39m, in \u001b[36mSQLTable._execute_insert\u001b[39m\u001b[34m(self, conn, keys, data_iter)\u001b[39m\n\u001b[32m    998\u001b[39m \u001b[38;5;250m\u001b[39m\u001b[33;03m\"\"\"\u001b[39;00m\n\u001b[32m    999\u001b[39m \u001b[33;03mExecute SQL statement inserting data\u001b[39;00m\n\u001b[32m   1000\u001b[39m \n\u001b[32m   (...)\u001b[39m\u001b[32m   1007\u001b[39m \u001b[33;03m   Each item contains a list of values to be inserted\u001b[39;00m\n\u001b[32m   1008\u001b[39m \u001b[33;03m\"\"\"\u001b[39;00m\n\u001b[32m   1009\u001b[39m data = [\u001b[38;5;28mdict\u001b[39m(\u001b[38;5;28mzip\u001b[39m(keys, row)) \u001b[38;5;28;01mfor\u001b[39;00m row \u001b[38;5;129;01min\u001b[39;00m data_iter]\n\u001b[32m-> \u001b[39m\u001b[32m1010\u001b[39m result = \u001b[43mconn\u001b[49m\u001b[43m.\u001b[49m\u001b[43mexecute\u001b[49m\u001b[43m(\u001b[49m\u001b[38;5;28;43mself\u001b[39;49m\u001b[43m.\u001b[49m\u001b[43mtable\u001b[49m\u001b[43m.\u001b[49m\u001b[43minsert\u001b[49m\u001b[43m(\u001b[49m\u001b[43m)\u001b[49m\u001b[43m,\u001b[49m\u001b[43m \u001b[49m\u001b[43mdata\u001b[49m\u001b[43m)\u001b[49m\n\u001b[32m   1011\u001b[39m \u001b[38;5;28;01mreturn\u001b[39;00m result.rowcount\n",
      "\u001b[36mFile \u001b[39m\u001b[32m~/coding/repos/databases/.venv/lib/python3.13/site-packages/sqlalchemy/engine/base.py:1415\u001b[39m, in \u001b[36mConnection.execute\u001b[39m\u001b[34m(self, statement, parameters, execution_options)\u001b[39m\n\u001b[32m   1413\u001b[39m     \u001b[38;5;28;01mraise\u001b[39;00m exc.ObjectNotExecutableError(statement) \u001b[38;5;28;01mfrom\u001b[39;00m\u001b[38;5;250m \u001b[39m\u001b[34;01merr\u001b[39;00m\n\u001b[32m   1414\u001b[39m \u001b[38;5;28;01melse\u001b[39;00m:\n\u001b[32m-> \u001b[39m\u001b[32m1415\u001b[39m     \u001b[38;5;28;01mreturn\u001b[39;00m \u001b[43mmeth\u001b[49m\u001b[43m(\u001b[49m\n\u001b[32m   1416\u001b[39m \u001b[43m        \u001b[49m\u001b[38;5;28;43mself\u001b[39;49m\u001b[43m,\u001b[49m\n\u001b[32m   1417\u001b[39m \u001b[43m        \u001b[49m\u001b[43mdistilled_parameters\u001b[49m\u001b[43m,\u001b[49m\n\u001b[32m   1418\u001b[39m \u001b[43m        \u001b[49m\u001b[43mexecution_options\u001b[49m\u001b[43m \u001b[49m\u001b[38;5;129;43;01mor\u001b[39;49;00m\u001b[43m \u001b[49m\u001b[43mNO_OPTIONS\u001b[49m\u001b[43m,\u001b[49m\n\u001b[32m   1419\u001b[39m \u001b[43m    \u001b[49m\u001b[43m)\u001b[49m\n",
      "\u001b[36mFile \u001b[39m\u001b[32m~/coding/repos/databases/.venv/lib/python3.13/site-packages/sqlalchemy/sql/elements.py:523\u001b[39m, in \u001b[36mClauseElement._execute_on_connection\u001b[39m\u001b[34m(self, connection, distilled_params, execution_options)\u001b[39m\n\u001b[32m    521\u001b[39m     \u001b[38;5;28;01mif\u001b[39;00m TYPE_CHECKING:\n\u001b[32m    522\u001b[39m         \u001b[38;5;28;01massert\u001b[39;00m \u001b[38;5;28misinstance\u001b[39m(\u001b[38;5;28mself\u001b[39m, Executable)\n\u001b[32m--> \u001b[39m\u001b[32m523\u001b[39m     \u001b[38;5;28;01mreturn\u001b[39;00m \u001b[43mconnection\u001b[49m\u001b[43m.\u001b[49m\u001b[43m_execute_clauseelement\u001b[49m\u001b[43m(\u001b[49m\n\u001b[32m    524\u001b[39m \u001b[43m        \u001b[49m\u001b[38;5;28;43mself\u001b[39;49m\u001b[43m,\u001b[49m\u001b[43m \u001b[49m\u001b[43mdistilled_params\u001b[49m\u001b[43m,\u001b[49m\u001b[43m \u001b[49m\u001b[43mexecution_options\u001b[49m\n\u001b[32m    525\u001b[39m \u001b[43m    \u001b[49m\u001b[43m)\u001b[49m\n\u001b[32m    526\u001b[39m \u001b[38;5;28;01melse\u001b[39;00m:\n\u001b[32m    527\u001b[39m     \u001b[38;5;28;01mraise\u001b[39;00m exc.ObjectNotExecutableError(\u001b[38;5;28mself\u001b[39m)\n",
      "\u001b[36mFile \u001b[39m\u001b[32m~/coding/repos/databases/.venv/lib/python3.13/site-packages/sqlalchemy/engine/base.py:1637\u001b[39m, in \u001b[36mConnection._execute_clauseelement\u001b[39m\u001b[34m(self, elem, distilled_parameters, execution_options)\u001b[39m\n\u001b[32m   1625\u001b[39m compiled_cache: Optional[CompiledCacheType] = execution_options.get(\n\u001b[32m   1626\u001b[39m     \u001b[33m\"\u001b[39m\u001b[33mcompiled_cache\u001b[39m\u001b[33m\"\u001b[39m, \u001b[38;5;28mself\u001b[39m.engine._compiled_cache\n\u001b[32m   1627\u001b[39m )\n\u001b[32m   1629\u001b[39m compiled_sql, extracted_params, cache_hit = elem._compile_w_cache(\n\u001b[32m   1630\u001b[39m     dialect=dialect,\n\u001b[32m   1631\u001b[39m     compiled_cache=compiled_cache,\n\u001b[32m   (...)\u001b[39m\u001b[32m   1635\u001b[39m     linting=\u001b[38;5;28mself\u001b[39m.dialect.compiler_linting | compiler.WARN_LINTING,\n\u001b[32m   1636\u001b[39m )\n\u001b[32m-> \u001b[39m\u001b[32m1637\u001b[39m ret = \u001b[38;5;28;43mself\u001b[39;49m\u001b[43m.\u001b[49m\u001b[43m_execute_context\u001b[49m\u001b[43m(\u001b[49m\n\u001b[32m   1638\u001b[39m \u001b[43m    \u001b[49m\u001b[43mdialect\u001b[49m\u001b[43m,\u001b[49m\n\u001b[32m   1639\u001b[39m \u001b[43m    \u001b[49m\u001b[43mdialect\u001b[49m\u001b[43m.\u001b[49m\u001b[43mexecution_ctx_cls\u001b[49m\u001b[43m.\u001b[49m\u001b[43m_init_compiled\u001b[49m\u001b[43m,\u001b[49m\n\u001b[32m   1640\u001b[39m \u001b[43m    \u001b[49m\u001b[43mcompiled_sql\u001b[49m\u001b[43m,\u001b[49m\n\u001b[32m   1641\u001b[39m \u001b[43m    \u001b[49m\u001b[43mdistilled_parameters\u001b[49m\u001b[43m,\u001b[49m\n\u001b[32m   1642\u001b[39m \u001b[43m    \u001b[49m\u001b[43mexecution_options\u001b[49m\u001b[43m,\u001b[49m\n\u001b[32m   1643\u001b[39m \u001b[43m    \u001b[49m\u001b[43mcompiled_sql\u001b[49m\u001b[43m,\u001b[49m\n\u001b[32m   1644\u001b[39m \u001b[43m    \u001b[49m\u001b[43mdistilled_parameters\u001b[49m\u001b[43m,\u001b[49m\n\u001b[32m   1645\u001b[39m \u001b[43m    \u001b[49m\u001b[43melem\u001b[49m\u001b[43m,\u001b[49m\n\u001b[32m   1646\u001b[39m \u001b[43m    \u001b[49m\u001b[43mextracted_params\u001b[49m\u001b[43m,\u001b[49m\n\u001b[32m   1647\u001b[39m \u001b[43m    \u001b[49m\u001b[43mcache_hit\u001b[49m\u001b[43m=\u001b[49m\u001b[43mcache_hit\u001b[49m\u001b[43m,\u001b[49m\n\u001b[32m   1648\u001b[39m \u001b[43m\u001b[49m\u001b[43m)\u001b[49m\n\u001b[32m   1649\u001b[39m \u001b[38;5;28;01mif\u001b[39;00m has_events:\n\u001b[32m   1650\u001b[39m     \u001b[38;5;28mself\u001b[39m.dispatch.after_execute(\n\u001b[32m   1651\u001b[39m         \u001b[38;5;28mself\u001b[39m,\n\u001b[32m   1652\u001b[39m         elem,\n\u001b[32m   (...)\u001b[39m\u001b[32m   1656\u001b[39m         ret,\n\u001b[32m   1657\u001b[39m     )\n",
      "\u001b[36mFile \u001b[39m\u001b[32m~/coding/repos/databases/.venv/lib/python3.13/site-packages/sqlalchemy/engine/base.py:1840\u001b[39m, in \u001b[36mConnection._execute_context\u001b[39m\u001b[34m(self, dialect, constructor, statement, parameters, execution_options, *args, **kw)\u001b[39m\n\u001b[32m   1837\u001b[39m context.pre_exec()\n\u001b[32m   1839\u001b[39m \u001b[38;5;28;01mif\u001b[39;00m context.execute_style \u001b[38;5;129;01mis\u001b[39;00m ExecuteStyle.INSERTMANYVALUES:\n\u001b[32m-> \u001b[39m\u001b[32m1840\u001b[39m     \u001b[38;5;28;01mreturn\u001b[39;00m \u001b[38;5;28;43mself\u001b[39;49m\u001b[43m.\u001b[49m\u001b[43m_exec_insertmany_context\u001b[49m\u001b[43m(\u001b[49m\u001b[43mdialect\u001b[49m\u001b[43m,\u001b[49m\u001b[43m \u001b[49m\u001b[43mcontext\u001b[49m\u001b[43m)\u001b[49m\n\u001b[32m   1841\u001b[39m \u001b[38;5;28;01melse\u001b[39;00m:\n\u001b[32m   1842\u001b[39m     \u001b[38;5;28;01mreturn\u001b[39;00m \u001b[38;5;28mself\u001b[39m._exec_single_context(\n\u001b[32m   1843\u001b[39m         dialect, context, statement, parameters\n\u001b[32m   1844\u001b[39m     )\n",
      "\u001b[36mFile \u001b[39m\u001b[32m~/coding/repos/databases/.venv/lib/python3.13/site-packages/sqlalchemy/engine/base.py:2122\u001b[39m, in \u001b[36mConnection._exec_insertmany_context\u001b[39m\u001b[34m(self, dialect, context)\u001b[39m\n\u001b[32m   2114\u001b[39m         dialect.do_execute(\n\u001b[32m   2115\u001b[39m             cursor,\n\u001b[32m   2116\u001b[39m             sub_stmt,\n\u001b[32m   2117\u001b[39m             sub_params,\n\u001b[32m   2118\u001b[39m             context,\n\u001b[32m   2119\u001b[39m         )\n\u001b[32m   2121\u001b[39m \u001b[38;5;28;01mexcept\u001b[39;00m \u001b[38;5;167;01mBaseException\u001b[39;00m \u001b[38;5;28;01mas\u001b[39;00m e:\n\u001b[32m-> \u001b[39m\u001b[32m2122\u001b[39m     \u001b[38;5;28;43mself\u001b[39;49m\u001b[43m.\u001b[49m\u001b[43m_handle_dbapi_exception\u001b[49m\u001b[43m(\u001b[49m\n\u001b[32m   2123\u001b[39m \u001b[43m        \u001b[49m\u001b[43me\u001b[49m\u001b[43m,\u001b[49m\n\u001b[32m   2124\u001b[39m \u001b[43m        \u001b[49m\u001b[43msql_util\u001b[49m\u001b[43m.\u001b[49m\u001b[43m_long_statement\u001b[49m\u001b[43m(\u001b[49m\u001b[43msub_stmt\u001b[49m\u001b[43m)\u001b[49m\u001b[43m,\u001b[49m\n\u001b[32m   2125\u001b[39m \u001b[43m        \u001b[49m\u001b[43msub_params\u001b[49m\u001b[43m,\u001b[49m\n\u001b[32m   2126\u001b[39m \u001b[43m        \u001b[49m\u001b[43mcursor\u001b[49m\u001b[43m,\u001b[49m\n\u001b[32m   2127\u001b[39m \u001b[43m        \u001b[49m\u001b[43mcontext\u001b[49m\u001b[43m,\u001b[49m\n\u001b[32m   2128\u001b[39m \u001b[43m        \u001b[49m\u001b[43mis_sub_exec\u001b[49m\u001b[43m=\u001b[49m\u001b[38;5;28;43;01mTrue\u001b[39;49;00m\u001b[43m,\u001b[49m\n\u001b[32m   2129\u001b[39m \u001b[43m    \u001b[49m\u001b[43m)\u001b[49m\n\u001b[32m   2131\u001b[39m \u001b[38;5;28;01mif\u001b[39;00m engine_events:\n\u001b[32m   2132\u001b[39m     \u001b[38;5;28mself\u001b[39m.dispatch.after_cursor_execute(\n\u001b[32m   2133\u001b[39m         \u001b[38;5;28mself\u001b[39m,\n\u001b[32m   2134\u001b[39m         cursor,\n\u001b[32m   (...)\u001b[39m\u001b[32m   2138\u001b[39m         context.executemany,\n\u001b[32m   2139\u001b[39m     )\n",
      "\u001b[36mFile \u001b[39m\u001b[32m~/coding/repos/databases/.venv/lib/python3.13/site-packages/sqlalchemy/engine/base.py:2351\u001b[39m, in \u001b[36mConnection._handle_dbapi_exception\u001b[39m\u001b[34m(self, e, statement, parameters, cursor, context, is_sub_exec)\u001b[39m\n\u001b[32m   2349\u001b[39m \u001b[38;5;28;01melif\u001b[39;00m should_wrap:\n\u001b[32m   2350\u001b[39m     \u001b[38;5;28;01massert\u001b[39;00m sqlalchemy_exception \u001b[38;5;129;01mis\u001b[39;00m \u001b[38;5;129;01mnot\u001b[39;00m \u001b[38;5;28;01mNone\u001b[39;00m\n\u001b[32m-> \u001b[39m\u001b[32m2351\u001b[39m     \u001b[38;5;28;01mraise\u001b[39;00m sqlalchemy_exception.with_traceback(exc_info[\u001b[32m2\u001b[39m]) \u001b[38;5;28;01mfrom\u001b[39;00m\u001b[38;5;250m \u001b[39m\u001b[34;01me\u001b[39;00m\n\u001b[32m   2352\u001b[39m \u001b[38;5;28;01melse\u001b[39;00m:\n\u001b[32m   2353\u001b[39m     \u001b[38;5;28;01massert\u001b[39;00m exc_info[\u001b[32m1\u001b[39m] \u001b[38;5;129;01mis\u001b[39;00m \u001b[38;5;129;01mnot\u001b[39;00m \u001b[38;5;28;01mNone\u001b[39;00m\n",
      "\u001b[36mFile \u001b[39m\u001b[32m~/coding/repos/databases/.venv/lib/python3.13/site-packages/sqlalchemy/engine/base.py:2114\u001b[39m, in \u001b[36mConnection._exec_insertmany_context\u001b[39m\u001b[34m(self, dialect, context)\u001b[39m\n\u001b[32m   2112\u001b[39m             \u001b[38;5;28;01mbreak\u001b[39;00m\n\u001b[32m   2113\u001b[39m     \u001b[38;5;28;01melse\u001b[39;00m:\n\u001b[32m-> \u001b[39m\u001b[32m2114\u001b[39m         \u001b[43mdialect\u001b[49m\u001b[43m.\u001b[49m\u001b[43mdo_execute\u001b[49m\u001b[43m(\u001b[49m\n\u001b[32m   2115\u001b[39m \u001b[43m            \u001b[49m\u001b[43mcursor\u001b[49m\u001b[43m,\u001b[49m\n\u001b[32m   2116\u001b[39m \u001b[43m            \u001b[49m\u001b[43msub_stmt\u001b[49m\u001b[43m,\u001b[49m\n\u001b[32m   2117\u001b[39m \u001b[43m            \u001b[49m\u001b[43msub_params\u001b[49m\u001b[43m,\u001b[49m\n\u001b[32m   2118\u001b[39m \u001b[43m            \u001b[49m\u001b[43mcontext\u001b[49m\u001b[43m,\u001b[49m\n\u001b[32m   2119\u001b[39m \u001b[43m        \u001b[49m\u001b[43m)\u001b[49m\n\u001b[32m   2121\u001b[39m \u001b[38;5;28;01mexcept\u001b[39;00m \u001b[38;5;167;01mBaseException\u001b[39;00m \u001b[38;5;28;01mas\u001b[39;00m e:\n\u001b[32m   2122\u001b[39m     \u001b[38;5;28mself\u001b[39m._handle_dbapi_exception(\n\u001b[32m   2123\u001b[39m         e,\n\u001b[32m   2124\u001b[39m         sql_util._long_statement(sub_stmt),\n\u001b[32m   (...)\u001b[39m\u001b[32m   2128\u001b[39m         is_sub_exec=\u001b[38;5;28;01mTrue\u001b[39;00m,\n\u001b[32m   2129\u001b[39m     )\n",
      "\u001b[36mFile \u001b[39m\u001b[32m~/coding/repos/databases/.venv/lib/python3.13/site-packages/sqlalchemy/engine/default.py:943\u001b[39m, in \u001b[36mDefaultDialect.do_execute\u001b[39m\u001b[34m(self, cursor, statement, parameters, context)\u001b[39m\n\u001b[32m    942\u001b[39m \u001b[38;5;28;01mdef\u001b[39;00m\u001b[38;5;250m \u001b[39m\u001b[34mdo_execute\u001b[39m(\u001b[38;5;28mself\u001b[39m, cursor, statement, parameters, context=\u001b[38;5;28;01mNone\u001b[39;00m):\n\u001b[32m--> \u001b[39m\u001b[32m943\u001b[39m     \u001b[43mcursor\u001b[49m\u001b[43m.\u001b[49m\u001b[43mexecute\u001b[49m\u001b[43m(\u001b[49m\u001b[43mstatement\u001b[49m\u001b[43m,\u001b[49m\u001b[43m \u001b[49m\u001b[43mparameters\u001b[49m\u001b[43m)\u001b[49m\n",
      "\u001b[31mIntegrityError\u001b[39m: (pyodbc.IntegrityError) ('23000', \"[23000] [Microsoft][ODBC Driver 17 for SQL Server][SQL Server]Violation of PRIMARY KEY constraint 'PK__reviews__D52F8C1D1F950072'. Cannot insert duplicate key in object 'dbo.reviews'. The duplicate key value is (9780765376671, 15). (2627) (SQLExecDirectW)\")\n[SQL: INSERT INTO reviews (isbn, customer_id, rating) VALUES (?, ?, ?), (?, ?, ?), (?, ?, ?), (?, ?, ?), (?, ?, ?), (?, ?, ?), (?, ?, ?), (?, ?, ?), (?, ?, ?), (?, ?, ?), (?, ?, ?), (?, ?, ?), (?, ?, ?), (?, ?, ?), (?, ?, ?), (?, ?, ?), (?, ?, ?), (?, ?, ? ... 1001 characters truncated ... ), (?, ?, ?), (?, ?, ?), (?, ?, ?), (?, ?, ?), (?, ?, ?), (?, ?, ?), (?, ?, ?), (?, ?, ?), (?, ?, ?)]\n[parameters: (9780765376671, 15, 5, 9781429949620, 15, 4, 9780765376671, 3, 4, 9780547928227, 1, 3, 9780547952017, 1, 4, 9781250868282, 9, 5, 9781250868299, 9, 4, 9781250868312, 9, 5, 9780553381689, 2, 4, 9780702309519, 4, 3, 9780316310314, 6, 5, 9780439023528, 21, 4, 9780545586177, 21, 4, 9780545663267, 21, 3, 9780765386632, 11, 5, 9780765382030, 11, 4, 9780312854270, 13 ... 254 parameters truncated ... 6, 4, 9780765382030, 11, 5, 9780312854287, 13, 4, 9780765334343, 5, 5, 9781250251497, 17, 3, 9780765386632, 23, 5, 9780702309519, 8, 4, 9781250319180, 15, 5, 9780804179607, 11, 4, 9780765376671, 23, 5, 9780765302304, 19, 5, 9780702309519, 5, 3, 9780316310376, 15, 5, 9781250251497, 19, 4, 9781250297143, 23, 4, 9781250868282, 11, 3, 9780804179607, 19, 5)]\n(Background on this error at: https://sqlalche.me/e/20/gkpj)"
     ]
    }
   ],
   "source": [
    "table_names = [table for table in Base.metadata.tables]  # [table.name for table in Base.metadata.sorted_tables]\n",
    "csv_paths = [f\"data/{table}.csv\" for table in table_names]\n",
    "column_names = [[col.name for col in cls.__table__.columns] for cls in Base.__subclasses__()]\n",
    "identity_tables = [\"authors\", \"stores\", \"customers\", \"orders\"]\n",
    "\n",
    "for table, path, cols in zip(table_names, csv_paths, column_names):\n",
    "    df = pd.read_csv(path, names=cols, header=0)\n",
    "    if table in identity_tables and \"id\" in df.columns:\n",
    "        df = df.drop(columns=[\"id\"])\n",
    "    df.to_sql(name=table, con=engine, if_exists=\"append\", index=False)"
   ]
  },
  {
   "cell_type": "markdown",
   "id": "d62cf51a",
   "metadata": {},
   "source": [
    "# Apparently there are duplicates in reviews. \n",
    "## The bad news - I need to find and exterminate them.  \n",
    "## The good news - reviews is the last table. "
   ]
  },
  {
   "cell_type": "code",
   "execution_count": null,
   "id": "d0cd0e87",
   "metadata": {},
   "outputs": [],
   "source": [
    "# engine.dispose()  # now the database is no longer in use"
   ]
  }
 ],
 "metadata": {
  "kernelspec": {
   "display_name": ".venv",
   "language": "python",
   "name": "python3"
  },
  "language_info": {
   "codemirror_mode": {
    "name": "ipython",
    "version": 3
   },
   "file_extension": ".py",
   "mimetype": "text/x-python",
   "name": "python",
   "nbconvert_exporter": "python",
   "pygments_lexer": "ipython3",
   "version": "3.13.3"
  }
 },
 "nbformat": 4,
 "nbformat_minor": 5
}
