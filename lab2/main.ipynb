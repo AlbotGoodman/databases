{
 "cells": [
  {
   "cell_type": "code",
   "execution_count": 1,
   "id": "2f09f1eb",
   "metadata": {},
   "outputs": [
    {
     "name": "stdout",
     "output_type": "stream",
     "text": [
      "\n",
      "Connection to bookstore established successfully!\n",
      "Views created successfully!\n",
      "Stored procedure created successfully!\n"
     ]
    }
   ],
   "source": [
    "# Scripts\n",
    "\n",
    "from models import Base\n",
    "from utils import read_upload, search_books, move_books, author_overview_ddl, customer_overview_ddl, move_inventory_ddl\n",
    "from db import get_engine, server_connection\n",
    "\n",
    "\n",
    "# Libraries\n",
    "\n",
    "from sqlalchemy import text\n",
    "from sqlalchemy.orm import Session\n",
    "import pandas as pd\n",
    "\n",
    "\n",
    "# Setting up a server connection and creating a database\n",
    "\n",
    "server_name = \"Alstation\"\n",
    "database_name = \"bookstore\"\n",
    "username = \"sa\"\n",
    "password = \"D@tabases\"\n",
    "\n",
    "server_engine = get_engine(server_name, username, password)\n",
    "server_connection(server_engine, database_name)\n",
    "engine = get_engine(server_name, username, password, database_name)\n",
    "print(f\"\\nConnection to {database_name} established successfully!\")\n",
    "\n",
    "\n",
    "# Create and fill tables\n",
    "\n",
    "views = [\"author_overview\", \"customer_overview\"]\n",
    "Base.metadata.create_all(\n",
    "    engine,\n",
    "    tables=[table for table in Base.metadata.tables.values() if table.name not in views]\n",
    ")\n",
    "read_upload(Base, engine)\n",
    "\n",
    "\n",
    "# Create views\n",
    "\n",
    "with engine.connect() as conn:\n",
    "    conn.execute(text(\"drop view if exists author_overview\"))\n",
    "    conn.execute(text(\"drop view if exists customer_overview\"))\n",
    "    conn.commit()\n",
    "    conn.execute(author_overview_ddl)\n",
    "    conn.execute(customer_overview_ddl)\n",
    "    conn.commit()\n",
    "    print(\"Views created successfully!\")\n",
    "\n",
    "# Create stored procedure\n",
    "\n",
    "with engine.connect() as conn:\n",
    "    conn.execute(text(\"drop procedure if exists MoveInventory\"))\n",
    "    conn.execute(move_inventory_ddl)\n",
    "    conn.commit()\n",
    "    print(\"Stored procedure created successfully!\")"
   ]
  },
  {
   "cell_type": "code",
   "execution_count": null,
   "id": "cd93b9fc",
   "metadata": {},
   "outputs": [],
   "source": [
    "# Access the author overview\n",
    "\n",
    "author_overview_df = pd.read_sql(\n",
    "    \"select * from author_overview\",\n",
    "    con=engine\n",
    ")\n",
    "display(author_overview_df)"
   ]
  },
  {
   "cell_type": "code",
   "execution_count": null,
   "id": "bb784981",
   "metadata": {},
   "outputs": [],
   "source": [
    "# Access the customer overview\n",
    "\n",
    "customer_overview_df = pd.read_sql(\n",
    "    \"select * from customer_overview\",\n",
    "    con=engine\n",
    ")\n",
    "display(customer_overview_df.sort_values(by=\"total_amount\", ascending=False))"
   ]
  },
  {
   "cell_type": "code",
   "execution_count": null,
   "id": "d1f07dec",
   "metadata": {},
   "outputs": [],
   "source": [
    "# Search for books\n",
    "\n",
    "session = Session(engine)\n",
    "result = search_books(session, input(\"Search book: \"))\n",
    "display(result)"
   ]
  },
  {
   "cell_type": "code",
   "execution_count": 9,
   "id": "076b290f",
   "metadata": {},
   "outputs": [
    {
     "name": "stdout",
     "output_type": "stream",
     "text": [
      "BEFORE:\n"
     ]
    },
    {
     "data": {
      "text/html": [
       "<div>\n",
       "<style scoped>\n",
       "    .dataframe tbody tr th:only-of-type {\n",
       "        vertical-align: middle;\n",
       "    }\n",
       "\n",
       "    .dataframe tbody tr th {\n",
       "        vertical-align: top;\n",
       "    }\n",
       "\n",
       "    .dataframe thead th {\n",
       "        text-align: right;\n",
       "    }\n",
       "</style>\n",
       "<table border=\"1\" class=\"dataframe\">\n",
       "  <thead>\n",
       "    <tr style=\"text-align: right;\">\n",
       "      <th></th>\n",
       "      <th>store_id</th>\n",
       "      <th>isbn</th>\n",
       "      <th>amount</th>\n",
       "    </tr>\n",
       "  </thead>\n",
       "  <tbody>\n",
       "    <tr>\n",
       "      <th>0</th>\n",
       "      <td>1</td>\n",
       "      <td>9780765376671</td>\n",
       "      <td>15</td>\n",
       "    </tr>\n",
       "    <tr>\n",
       "      <th>1</th>\n",
       "      <td>4</td>\n",
       "      <td>9780765376671</td>\n",
       "      <td>14</td>\n",
       "    </tr>\n",
       "  </tbody>\n",
       "</table>\n",
       "</div>"
      ],
      "text/plain": [
       "   store_id           isbn  amount\n",
       "0         1  9780765376671      15\n",
       "1         4  9780765376671      14"
      ]
     },
     "metadata": {},
     "output_type": "display_data"
    },
    {
     "name": "stdout",
     "output_type": "stream",
     "text": [
      "\n",
      "    ====================================\n",
      "    Inventory relocation in progress ...\n",
      "    ====================================\n",
      "    Amount x ISBN: 5 x 9780765376671\n",
      "    From Store ID: 1\n",
      "    To Store ID: 4\n",
      "    ====================================\n",
      "    \n",
      "\n",
      "AFTER:\n"
     ]
    },
    {
     "data": {
      "text/html": [
       "<div>\n",
       "<style scoped>\n",
       "    .dataframe tbody tr th:only-of-type {\n",
       "        vertical-align: middle;\n",
       "    }\n",
       "\n",
       "    .dataframe tbody tr th {\n",
       "        vertical-align: top;\n",
       "    }\n",
       "\n",
       "    .dataframe thead th {\n",
       "        text-align: right;\n",
       "    }\n",
       "</style>\n",
       "<table border=\"1\" class=\"dataframe\">\n",
       "  <thead>\n",
       "    <tr style=\"text-align: right;\">\n",
       "      <th></th>\n",
       "      <th>store_id</th>\n",
       "      <th>isbn</th>\n",
       "      <th>amount</th>\n",
       "    </tr>\n",
       "  </thead>\n",
       "  <tbody>\n",
       "    <tr>\n",
       "      <th>0</th>\n",
       "      <td>1</td>\n",
       "      <td>9780765376671</td>\n",
       "      <td>10</td>\n",
       "    </tr>\n",
       "    <tr>\n",
       "      <th>1</th>\n",
       "      <td>4</td>\n",
       "      <td>9780765376671</td>\n",
       "      <td>19</td>\n",
       "    </tr>\n",
       "  </tbody>\n",
       "</table>\n",
       "</div>"
      ],
      "text/plain": [
       "   store_id           isbn  amount\n",
       "0         1  9780765376671      10\n",
       "1         4  9780765376671      19"
      ]
     },
     "metadata": {},
     "output_type": "display_data"
    }
   ],
   "source": [
    "# Move books between stores\n",
    "\n",
    "before, info, after = move_books(engine)\n",
    "print(\"BEFORE:\")\n",
    "display(before)\n",
    "print(info)\n",
    "print(\"\\nAFTER:\")\n",
    "display(after)"
   ]
  }
 ],
 "metadata": {
  "kernelspec": {
   "display_name": ".venv",
   "language": "python",
   "name": "python3"
  },
  "language_info": {
   "codemirror_mode": {
    "name": "ipython",
    "version": 3
   },
   "file_extension": ".py",
   "mimetype": "text/x-python",
   "name": "python",
   "nbconvert_exporter": "python",
   "pygments_lexer": "ipython3",
   "version": "3.13.3"
  }
 },
 "nbformat": 4,
 "nbformat_minor": 5
}
