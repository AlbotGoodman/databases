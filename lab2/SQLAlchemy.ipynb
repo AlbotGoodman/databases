{
 "cells": [
  {
   "cell_type": "markdown",
   "id": "024ff1cc",
   "metadata": {},
   "source": [
    "# 1 Dependencies"
   ]
  },
  {
   "cell_type": "code",
   "execution_count": 3,
   "id": "69c06ec9",
   "metadata": {},
   "outputs": [],
   "source": [
    "from datetime import date\n",
    "from typing import Optional, List\n",
    "from sqlalchemy import create_engine, text, Integer, String, ForeignKey, Date, CheckConstraint\n",
    "from sqlalchemy.engine import URL\n",
    "from sqlalchemy.orm import DeclarativeBase, Mapped, mapped_column, relationship, Session\n",
    "from sqlalchemy.exc import ProgrammingError"
   ]
  },
  {
   "cell_type": "markdown",
   "id": "c8528166",
   "metadata": {},
   "source": [
    "# 2 Establish a connection"
   ]
  },
  {
   "cell_type": "code",
   "execution_count": null,
   "id": "95bc7f37",
   "metadata": {},
   "outputs": [],
   "source": [
    "server_name = \"Alstation\"\n",
    "username = \"sa\"\n",
    "password = \"D@tabases\"\n",
    "\n",
    "connection_string = f\"DRIVER={{ODBC Driver 17 for SQL Server}};SERVER={server_name};UID={username};PWD={password}\"\n",
    "url_string = URL.create(\"mssql+pyodbc\", query={\"odbc_connect\": connection_string})\n",
    "engine = create_engine(url_string)"
   ]
  },
  {
   "cell_type": "markdown",
   "id": "3dfb304d",
   "metadata": {},
   "source": [
    "# 3 Create a database"
   ]
  },
  {
   "cell_type": "code",
   "execution_count": null,
   "id": "f5576126",
   "metadata": {},
   "outputs": [
    {
     "name": "stdout",
     "output_type": "stream",
     "text": [
      "A database named 'bookstore' already exists.\n"
     ]
    }
   ],
   "source": [
    "database_name = \"bookstore\"\n",
    "\n",
    "try:\n",
    "    with engine.connect().execution_options(isolation_level=\"AUTOCOMMIT\") as conn:\n",
    "        conn.execute(text(f\"CREATE DATABASE {database_name}\"))\n",
    "except ProgrammingError as err:\n",
    "    err_string = str(err)\n",
    "    if \"'bookstore' already exists\" in err_string:\n",
    "        print(f\"A database named '{database_name}' already exists.\")\n",
    "    else:\n",
    "        print(err)"
   ]
  },
  {
   "cell_type": "markdown",
   "id": "4b628a18",
   "metadata": {},
   "source": [
    "# 4 Create tables"
   ]
  },
  {
   "cell_type": "markdown",
   "id": "53652a5e",
   "metadata": {},
   "source": [
    "## 4.1 Required"
   ]
  },
  {
   "cell_type": "code",
   "execution_count": null,
   "id": "71f318e9",
   "metadata": {},
   "outputs": [],
   "source": [
    "class Base(DeclarativeBase):\n",
    "    pass\n",
    "\n",
    "class Authors(Base):\n",
    "    __tablename__ = \"authors\"\n",
    "\n",
    "    id: Mapped[int] = mapped_column(primary_key=True)\n",
    "    first_name: Mapped[str] = mapped_column(String(30))\n",
    "    last_name: Mapped[str] = mapped_column(String(30))\n",
    "    birth_date: Mapped[Optional[date]] = mapped_column(Date)\n",
    "\n",
    "    # deleting an author deletes all their books\n",
    "    books: Mapped[List[\"Books\"]] = relationship(back_populates=\"authors\", cascade=\"all, delete-orphan\")\n",
    "\n",
    "class Books(Base):\n",
    "    __tablename__ = \"books\"\n",
    "    __table_args__ = (CheckConstraint(\"price > 0\", name=\"check_price_positive\"))  # what if I want several?\n",
    "\n",
    "    isbn: Mapped[int] = mapped_column(primary_key=True)\n",
    "    title: Mapped[str] = mapped_column(String(100))\n",
    "    language: Mapped[Optional[str]] = mapped_column(String(30))\n",
    "    price: Mapped[int] = mapped_column(Integer)\n",
    "    publication_date: Mapped[Optional[date]] = mapped_column(Date)\n",
    "    author_id: Mapped[int] = mapped_column(ForeignKey(\"authors.id\"))\n",
    "\n",
    "    authors: Mapped[\"Authors\"] = relationship(back_populates=\"books\")\n",
    "    # deleting a book deletes it's inventory\n",
    "    inventory: Mapped[List[\"Inventory\"]] = relationship(back_populates=\"books\", cascade=\"all, delete-orphan\")\n",
    "\n",
    "class Stores(Base):\n",
    "    __tablename__ = \"stores\"\n",
    "\n",
    "    id: Mapped[int] = mapped_column(primary_key=True)\n",
    "    name: Mapped[str] = mapped_column(String(50))\n",
    "    address: Mapped[Optional[str]] = mapped_column(String(100))\n",
    "\n",
    "    # deleting a store deletes it's inventory\n",
    "    inventory: Mapped[List[\"Inventory\"]] = relationship(back_populates=\"stores\", cascade=\"all, delete-orphan\")\n",
    "\n",
    "class Inventory(Base):\n",
    "    __tablename__ = \"inventory\"\n",
    "\n",
    "    store_id: Mapped[int] = mapped_column(ForeignKey(\"stores.id\"), primary_key=True)\n",
    "    isbn: Mapped[int] = mapped_column(ForeignKey(\"books.isbn\"), primary_key=True)\n",
    "    amount: Mapped[int] = mapped_column(Integer, default=0)\n",
    "\n",
    "    books: Mapped[\"Books\"] = relationship(back_populates=\"inventory\")\n",
    "    stores: Mapped[\"Stores\"] = relationship(back_populates=\"inventory\")"
   ]
  },
  {
   "cell_type": "markdown",
   "id": "df877096",
   "metadata": {},
   "source": [
    "## 4.2 Additional"
   ]
  },
  {
   "cell_type": "code",
   "execution_count": null,
   "id": "39dec36e",
   "metadata": {},
   "outputs": [],
   "source": [
    "# Do I need to specify int and Integer for PK and FK? \n",
    "# How do I do nvarchar(max) or do I even need to? Should I not even specify string length?\n",
    "# how would cascades work here? \n",
    "# more checks and defaults? \n",
    "\n",
    "\n",
    "class BookAuthors(Base):\n",
    "    __tablename__ = \"book_authors\"\n",
    "\n",
    "    isbn: Mapped[int] = mapped_column(ForeignKey(\"books.isbn\"))\n",
    "    author_id: Mapped[int] = mapped_column(ForeignKey(\"authors.id\"))\n",
    "    role: Mapped[str] = mapped_column(String(20))\n",
    "\n",
    "    books: Mapped[\"Books\"] = relationship(back_populates=\"bookauthors\")\n",
    "    authors: Mapped[\"Authors\"] = relationship(back_populates=\"bookauthors\")\n",
    "\n",
    "class Customers(Base):\n",
    "    __tablename__ = \"customers\"\n",
    "    # check for email containing % + @ + %\n",
    "\n",
    "    id: Mapped[int] = mapped_column(Integer, primary_key=True)\n",
    "    first_name: Mapped[str] = mapped_column(String(30))\n",
    "    last_name: Mapped[str] = mapped_column(String(30))\n",
    "    email: Mapped[str] = mapped_column(String(80))\n",
    "    membership_level: Mapped[str] = mapped_column(String(8))\n",
    "\n",
    "class Orders(Base):\n",
    "    __tablename__ = \"orders\"\n",
    "\n",
    "    id: Mapped[int] = mapped_column(Integer, primary_key=True)\n",
    "    customer_id: Mapped[int] = mapped_column(ForeignKey(\"customers.id\"))\n",
    "    order_date: Mapped[date] = mapped_column(Date)\n",
    "\n",
    "    customers: Mapped[\"Customers\"] = relationship(back_populates=\"orders\")\n",
    "\n",
    "class OrderDetails(Base):\n",
    "    __tablename__ = \"order_details\"\n",
    "\n",
    "    order_id: Mapped[int] = mapped_column(ForeignKey(\"orders.id\"))\n",
    "    book_id: Mapped[int] = mapped_column(ForeignKey(\"books.isbn\"))\n",
    "    quantity: Mapped[int] = mapped_column(Integer)\n",
    "\n",
    "    orders: Mapped[\"Orders\"] = relationship(back_populates=\"order_details\")\n",
    "    books: Mapped[\"Books\"] = relationship(back_populates=\"order_details\")\n",
    "\n",
    "class Reviews(Base):\n",
    "    __tablename__ = \"reviews\"\n",
    "\n",
    "    isbn: Mapped[int] = mapped_column(ForeignKey(\"books.isbn\"))\n",
    "    customer_id: Mapped[int] = mapped_column(ForeignKey(\"customers.id\"))\n",
    "    rating: Mapped[int] = mapped_column(Integer)\n",
    "\n",
    "    books: Mapped[\"Books\"] = relationship(back_populates=\"reviews\")\n",
    "    customers: Mapped[\"Customers\"] = relationship(back_populates=\"reviews\")"
   ]
  },
  {
   "cell_type": "markdown",
   "id": "4f2791ed",
   "metadata": {},
   "source": [
    "## 4.3 Creation"
   ]
  },
  {
   "cell_type": "code",
   "execution_count": null,
   "id": "ea7c52ac",
   "metadata": {},
   "outputs": [],
   "source": []
  }
 ],
 "metadata": {
  "kernelspec": {
   "display_name": ".venv",
   "language": "python",
   "name": "python3"
  },
  "language_info": {
   "codemirror_mode": {
    "name": "ipython",
    "version": 3
   },
   "file_extension": ".py",
   "mimetype": "text/x-python",
   "name": "python",
   "nbconvert_exporter": "python",
   "pygments_lexer": "ipython3",
   "version": "3.13.3"
  }
 },
 "nbformat": 4,
 "nbformat_minor": 5
}
