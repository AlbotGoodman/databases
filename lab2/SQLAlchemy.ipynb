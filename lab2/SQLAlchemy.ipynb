{
 "cells": [
  {
   "cell_type": "markdown",
   "id": "024ff1cc",
   "metadata": {},
   "source": [
    "# Dependencies"
   ]
  },
  {
   "cell_type": "code",
   "execution_count": null,
   "id": "69c06ec9",
   "metadata": {},
   "outputs": [],
   "source": [
    "from datetime import date\n",
    "from typing import Optional, List\n",
    "from sqlalchemy import create_engine, text, Integer, String, ForeignKey, Date\n",
    "from sqlalchemy.engine import URL\n",
    "from sqlalchemy.orm import DeclarativeBase, Mapped, mapped_column, relationship, Session\n",
    "from sqlalchemy.exc import ProgrammingError"
   ]
  },
  {
   "cell_type": "markdown",
   "id": "c8528166",
   "metadata": {},
   "source": [
    "# Establish a connection"
   ]
  },
  {
   "cell_type": "code",
   "execution_count": null,
   "id": "95bc7f37",
   "metadata": {},
   "outputs": [],
   "source": [
    "server_name = \"Alstation\"\n",
    "username = \"sa\"\n",
    "password = \"D@tabases\"\n",
    "\n",
    "connection_string = f\"DRIVER={{ODBC Driver 17 for SQL Server}};SERVER={server_name};UID={username};PWD={password}\"\n",
    "url_string = URL.create(\"mssql+pyodbc\", query={\"odbc_connect\": connection_string})\n",
    "engine = create_engine(url_string)"
   ]
  },
  {
   "cell_type": "markdown",
   "id": "3dfb304d",
   "metadata": {},
   "source": [
    "# Create a database"
   ]
  },
  {
   "cell_type": "code",
   "execution_count": null,
   "id": "f5576126",
   "metadata": {},
   "outputs": [
    {
     "name": "stdout",
     "output_type": "stream",
     "text": [
      "A database named 'bookstore' already exists.\n"
     ]
    }
   ],
   "source": [
    "database_name = \"bookstore\"\n",
    "\n",
    "try:\n",
    "    with engine.connect().execution_options(isolation_level=\"AUTOCOMMIT\") as conn:\n",
    "        conn.execute(text(f\"CREATE DATABASE {database_name}\"))\n",
    "except ProgrammingError as err:\n",
    "    err_string = str(err)\n",
    "    if \"'bookstore' already exists\" in err_string:\n",
    "        print(f\"A database named '{database_name}' already exists.\")\n",
    "    else:\n",
    "        print(err)"
   ]
  },
  {
   "cell_type": "markdown",
   "id": "4b628a18",
   "metadata": {},
   "source": [
    "# Create tables"
   ]
  },
  {
   "cell_type": "markdown",
   "id": "53652a5e",
   "metadata": {},
   "source": [
    "## Required"
   ]
  },
  {
   "cell_type": "code",
   "execution_count": null,
   "id": "71f318e9",
   "metadata": {},
   "outputs": [],
   "source": [
    "class Base(DeclarativeBase):\n",
    "    pass\n",
    "\n",
    "class Authors(Base):\n",
    "    __tablename__ = \"authors\"\n",
    "\n",
    "    id: Mapped[int] = mapped_column(primary_key=True)\n",
    "    first_name: Mapped[str] = mapped_column(String(30))\n",
    "    last_name: Mapped[str] = mapped_column(String(30))\n",
    "    birth_date: Mapped[Optional[date]] = mapped_column(Date)\n",
    "\n",
    "    # deleting an author deletes all their books\n",
    "    books: Mapped[List[\"Books\"]] = relationship(back_populates=\"authors\", cascade=\"all, delete-orphan\")\n",
    "\n",
    "class Books(Base):\n",
    "    __tablename__ = \"books\"\n",
    "\n",
    "    isbn: Mapped[int] = mapped_column(primary_key=True)\n",
    "    title: Mapped[str] = mapped_column(String(100))\n",
    "    language: Mapped[Optional[str]] = mapped_column(String(30))\n",
    "    price: Mapped[int] = mapped_column(Integer)\n",
    "    publication_date: Mapped[Optional[date]] = mapped_column(Date)\n",
    "    author_id: Mapped[int] = mapped_column(ForeignKey(\"authors.id\"))\n",
    "\n",
    "    # deleting a book still keeps the inventory for that book\n",
    "    inventory: Mapped[List[\"Inventory\"]] = relationship(back_populates=\"books\", cascade=\"all\")\n",
    "\n",
    "class Stores(Base):\n",
    "    __tablename__ = \"stores\"\n",
    "\n",
    "    id: Mapped[int] = mapped_column(primary_key=True)\n",
    "    name: Mapped[str] = mapped_column(String(50))\n",
    "    address: Mapped[Optional[str]] = mapped_column(String(100))\n",
    "\n",
    "    # deleting a store deletes it's inventory\n",
    "    inventory: Mapped[List[\"Inventory\"]] = relationship(back_populates=\"stores\", cascade=\"all, delete-orphan\")\n",
    "\n",
    "class Inventory(Base):\n",
    "    __tablename__ = \"inventory\"\n",
    "\n",
    "    store_id: Mapped[int] = mapped_column(ForeignKey(\"stores.id\"))\n",
    "    isbn: Mapped[int] = mapped_column(ForeignKey(\"books.isbn\"))\n",
    "    amount: Mapped[int] = mapped_column(Integer)"
   ]
  },
  {
   "cell_type": "markdown",
   "id": "df877096",
   "metadata": {},
   "source": [
    "## Additional"
   ]
  },
  {
   "cell_type": "code",
   "execution_count": null,
   "id": "39dec36e",
   "metadata": {},
   "outputs": [],
   "source": []
  }
 ],
 "metadata": {
  "kernelspec": {
   "display_name": ".venv",
   "language": "python",
   "name": "python3"
  },
  "language_info": {
   "codemirror_mode": {
    "name": "ipython",
    "version": 3
   },
   "file_extension": ".py",
   "mimetype": "text/x-python",
   "name": "python",
   "nbconvert_exporter": "python",
   "pygments_lexer": "ipython3",
   "version": "3.13.3"
  }
 },
 "nbformat": 4,
 "nbformat_minor": 5
}
