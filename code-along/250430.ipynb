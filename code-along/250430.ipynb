{
 "cells": [
  {
   "cell_type": "markdown",
   "id": "9b594c88",
   "metadata": {},
   "source": [
    "# Genomgång av\n",
    "- intro.sql\n",
    "- crud.pdf\n",
    "- functions.sql"
   ]
  },
  {
   "cell_type": "code",
   "execution_count": null,
   "id": "62459af7",
   "metadata": {},
   "outputs": [],
   "source": [
    "\n",
    "# name this restore.sql\n",
    "RESTORE DATABASE everyloop\n",
    "FROM DISK = \"/home/albot/coding/repos/databases/data/everyloop.bak\"\n",
    "WITH MOVE \"everyloop\" TO \"/var/opt/mssql/data/everyloop.mdf\"\n",
    "MOVE \"everyloop_log\" TO \"/var/opt/mssql/data/everyloop_log.ldf\""
   ]
  },
  {
   "cell_type": "markdown",
   "id": "6b0d0bf4",
   "metadata": {},
   "source": [
    "Inline-kommentarer skrivs med -- i stället för #\n",
    "blockkommentarer skrivs med:\n",
    "/*\n",
    "comment\n",
    "*/\n",
    "\n",
    "Om du startar en query från en fil så är det din current working directory, annars behöver du "
   ]
  },
  {
   "cell_type": "markdown",
   "id": "1a13d397",
   "metadata": {},
   "source": [
    "Labbarna är bara inlämningsuppgifter. Gör ett svar på frågorna och skriv GO efteråt. När du använder select så ändrar du inte databasen men om du skulle ändra (med andra kommandon) kan du skriva ROLLBACK efter GO för att ångra ändringarna. \n",
    "\n",
    "Om du gör delete eller annat så gör det i en transaktion så att du kan göra en ROLLBACK ifall det blir fel. \n",
    "\n",
    "Om du tänker göra en delete eller update upsert eller liknande så testa först samma kommando med select för att se så att det blir som du önskat och sedan kan du bara byta ut \"select\" till vad du ville göra. \n",
    "\n",
    "Truncate är snabbare än delete\n",
    "\n",
    "För dokumentation så använd: \n",
    "https://learn.microsoft.com/en-us/sql/t-sql/language-reference?view=sql-server-ver16\n",
    "\n",
    "Om du highlightar en rad så kan du köra bara den utan att kommentera ut annan kod. \n",
    "\n",
    "Feature selection kan vara bra att göra i databas men slumpmässiga urval och grejer, skapa splits eller liknande gör vi helst inte i databaser\n",
    "\n"
   ]
  },
  {
   "cell_type": "code",
   "execution_count": null,
   "id": "1184d25a",
   "metadata": {
    "vscode": {
     "languageId": "sql"
    }
   },
   "outputs": [],
   "source": [
    "-- det verkar som att jag kan använda notebook för block men frågan är om jag kommer åt databasen? \n",
    "select len(firstname)"
   ]
  }
 ],
 "metadata": {
  "kernelspec": {
   "display_name": ".venv",
   "language": "python",
   "name": "python3"
  },
  "language_info": {
   "codemirror_mode": {
    "name": "ipython",
    "version": 3
   },
   "file_extension": ".py",
   "mimetype": "text/x-python",
   "name": "python",
   "nbconvert_exporter": "python",
   "pygments_lexer": "ipython3",
   "version": "3.13.3"
  }
 },
 "nbformat": 4,
 "nbformat_minor": 5
}
