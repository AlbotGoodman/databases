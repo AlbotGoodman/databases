{
 "cells": [
  {
   "cell_type": "markdown",
   "id": "e48565f8",
   "metadata": {},
   "source": [
    "För VG på kursen så ska du ha VG på tentan och en av inlämningarna. \n",
    "\n",
    "Versaler eller gemener på nyckelord spelar ingen roll. "
   ]
  },
  {
   "cell_type": "markdown",
   "id": "478d9d47",
   "metadata": {},
   "source": [
    "# Kort genomgång av SQL"
   ]
  },
  {
   "cell_type": "markdown",
   "id": "787aba4f",
   "metadata": {},
   "source": [
    "## Relationsdatabaser\n",
    "\n",
    "- En databas är en samling information som är organiserad för att man enkelt ska kunna söka och ändra ensilda delar av informaitonen\n",
    "- en databashanterare (DBMS) är den mkjukvara som används för att söka och manipulera data i en specifik typ av databas\n",
    "- det finns olika sorters databasesr. Vi kommer fokusera på den kategori som kallas relationsdatabaser, som är väldigt vanliga\n",
    "- relationsdatabaser lagrar data i tabellform och ofta är det relationerna mellan olika tabeller som är det mest intressanta. Därav namnet relationsdatabas. \n",
    "\n",
    "Git är en databas och ganska typisk sådan, förändringar till databasen är det som sparas. Att söka efter innehåll i en DB är oftast vektoriserade databaser som är typiska för ML, ska kunna söka i text väldigt snabbt, bra för LLM.  \n",
    "\n"
   ]
  },
  {
   "cell_type": "markdown",
   "id": "5b2d500d",
   "metadata": {},
   "source": [
    "## Structured Query Language (SQL)\n",
    "\n",
    "- SQL är ett standardiserat programspråk (nja) för att hämta och modifiera data i relationsdatabser (RDBMS). \n",
    "- språket utvecklades först av IBM under 70-taöet\n",
    "- SQL uttalas antingen SQL eller Sequel. \n",
    "- olika databashanterare (t ex Oracle, Postgres och MySQL) använder olika dialekter av SQL. Variationerna är dock oftast relativt små. Oracle är inte den mest använda utan den med mest fel - det finns ju en väldigt lång historia pga gammalt bolag. Myndigheter har oftast Oracle-databaser, t ex USA. Väldigt speciell, inget annat fungerar liknande. Medan de flesta utvecklare \n",
    "- i denna och kommande lektioner använder vi T-SQL som är den variant smo Microsoft använder i sin SQL-server. Pga performance. "
   ]
  },
  {
   "cell_type": "markdown",
   "id": "2949f342",
   "metadata": {},
   "source": [
    "## Queries\n",
    "\n",
    "- för att hämta ut elle ändra information i en relationsdatabas skciar man så kallade queries till databashanteraren (servern)\n",
    "- en query kan vara allt från väldigt simpel (\"ge mig all data i tabell xyz\") till väldigt komplex (du kan bygga upp ett featurespace i databsen)\n",
    "- i denna leltion kollar vi på några av de vanligaste uttryck man använder i SQL för att plocka ut data från en tabell. "
   ]
  },
  {
   "cell_type": "markdown",
   "id": "8ae2978c",
   "metadata": {},
   "source": [
    "### Select (kommando)\n",
    "\n",
    "När vi vill hämta och visa data från en tabell använder vi SELECT. \n",
    "\n",
    "SELECT id, username, password FROM users;\n",
    "\n",
    "Semikolon är vad som skiljer olika queries. Den ordningen vi refererar till är den ordningen vi får ut. * kan användas för att ta ut alla kolumner i en tabell. Select är det vanligaste kommandot och går att göra mer komplexa. \n"
   ]
  },
  {
   "cell_type": "markdown",
   "id": "4322d42f",
   "metadata": {},
   "source": [
    "### TOP x *\n",
    "\n",
    "Man vill i princip aldrig be om all data (*) pga databaserna är oftast väldigt stora. Ett sätt att begränsa antal rader är genom TOP x som begränsar reultatet till x rader (gäller bara T-SQL). \n",
    "\n",
    "SELECT TOP 10 * FROM USERS; \n",
    "\n",
    "I de andra säger vi limit efteråt. "
   ]
  },
  {
   "cell_type": "markdown",
   "id": "245b50a0",
   "metadata": {},
   "source": [
    "### WHERE\n",
    "\n",
    "Ett annat sätt att begränsa är att bara be om rader som amtchar ett givet villkor. Detta gör vi med WHERE: \n",
    "\n",
    "SELECT * FROM USERS WHERE username=\"Fredrik\";"
   ]
  },
  {
   "cell_type": "markdown",
   "id": "1528c239",
   "metadata": {},
   "source": [
    "### Logiska operationer\n",
    "\n",
    "SELECT * from cities where country = \"Sweden\" and population < 10000;\n",
    "samma med or, not eller \"skiljt från\" som vi skriver <>\n",
    "\n",
    "går också att använda in\n",
    "\n",
    "select * from cities where country in (\"Sweden\", \"Norway\", \"Denmark\")"
   ]
  },
  {
   "cell_type": "markdown",
   "id": "fdf8d0c4",
   "metadata": {},
   "source": [
    "### Between\n",
    "\n",
    "Fungerar ungefär som Python slices för att ange ett spann av värden. \n",
    "\n",
    "Select * from users where id between 18 and 24\n",
    "\n",
    "Går med siffror, bokstäver, tidstämplar och liknande. "
   ]
  },
  {
   "cell_type": "markdown",
   "id": "7c67c269",
   "metadata": {},
   "source": [
    "### like\n",
    "\n",
    "Väldigt olika beroende på databashanterare. Används när vi vill matcha textfält mot ett specifikt mönster: t ex alla textfält som börjar med \"B\". Det går att använda reguljära uttryck. \n",
    "\n",
    "select * from cities where city like \"[a-f]%[^0-9]\";\n",
    "select * from cities where country not like \"%land%\";"
   ]
  },
  {
   "cell_type": "markdown",
   "id": "b480fb4d",
   "metadata": {},
   "source": [
    "### Order by\n",
    "\n",
    "Sortera resyltatet på en eller flera kolumner. \n",
    "\n",
    "select * from people order by lastname, firstname;\n",
    "\n",
    "Efter varje kolumn vi sorterar på så kan vi lägga till \"asc\" för att få ascending och vice versa. "
   ]
  },
  {
   "cell_type": "markdown",
   "id": "91d3f4aa",
   "metadata": {},
   "source": [
    "### distinct\n",
    "\n",
    "Få ut unika värden. T ex om vi vill få ut ett set, utan dubbletter. \n",
    "\n",
    "select distinct country from cities;"
   ]
  },
  {
   "cell_type": "markdown",
   "id": "8b0f0d9b",
   "metadata": {},
   "source": [
    "### alias\n",
    "\n",
    "Används för att referera till kolumner med ett annat namn. \n",
    "\n",
    "select id, username as user, password as key from users;\n",
    "\n",
    "Ett typiskt fall är när vi har kolumner med snarlika namn, kommer från olika sajter t ex och ska merga så kan det vara bra med alias. Ungefär som när vi importerar något i Python, pandas as pd. "
   ]
  },
  {
   "cell_type": "markdown",
   "id": "d92848f7",
   "metadata": {},
   "source": [
    "### union\n",
    "\n",
    "Slå ihop resultat från flera queries till ett enda. Då måste frågorna matcha. \n",
    "\n",
    "select stad as \"city\", [invånare] as \"population\" from SvenskaOrter\n",
    "union all\n",
    "select city, population from UScities;\n",
    "\n",
    "Med union blir det inga dubbletter, union all tar med dubbletter. "
   ]
  },
  {
   "cell_type": "markdown",
   "id": "c7ff4ff8",
   "metadata": {},
   "source": [
    "### case when\n",
    "\n",
    "Med case-when kan vi välja att visa värden beroende på villkor. \n",
    "\n",
    "select\n",
    "   city,\n",
    "   case\n",
    "      when population < 1500 then \"village\"\n",
    "      when population < 50000 then \"city\"\n",
    "      else \"city\"\n",
    "   end as \"classification\"\n",
    "from UScities"
   ]
  },
  {
   "cell_type": "markdown",
   "id": "faf3bdb4",
   "metadata": {},
   "source": [
    "### mer än bara select\n",
    "\n",
    "- lägga till, uppdatera och ta bort rader i tabeller\n",
    "- skapa och ta bort tabeller och så kallade vyer\n",
    "- plocka ut data på aggregerad nivå\n",
    "- korsreferera data från flera tabeller\n",
    "- mm"
   ]
  },
  {
   "cell_type": "markdown",
   "id": "c9260bd4",
   "metadata": {},
   "source": [
    "# SQL install\n",
    "\n",
    "SQL Server system administrator password: D@tabases"
   ]
  }
 ],
 "metadata": {
  "language_info": {
   "name": "python"
  }
 },
 "nbformat": 4,
 "nbformat_minor": 5
}
