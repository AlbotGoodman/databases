{
 "cells": [
  {
   "cell_type": "markdown",
   "id": "8e449a44",
   "metadata": {},
   "source": [
    "# ACID"
   ]
  },
  {
   "cell_type": "markdown",
   "id": "f3614ec1",
   "metadata": {},
   "source": [
    "Databaser ska ha en egenskap om de är bra gjorda - ACID. Kunna ha flera användare, göra många transaktioner samtidigt, alltid se samma data osv. Det ska vara EN operation att flytta pengar från ett konto till ett annat, t ex.\n",
    "\n",
    "ACID: \n",
    "- atomicity, hela transaktionen ska genomföras men om den avbryts under tiden ska allt rullas tillbaka till ursprungsläget\n",
    "- consistency, inga inre motsägelser, dataintegritet\n",
    "- isolation, transaktioner ska vara isolerade från varandra och utföras i ordning så att inget krockar\n",
    "- durability, säker lagring efter transaktioner"
   ]
  },
  {
   "cell_type": "markdown",
   "id": "e9b91dde",
   "metadata": {},
   "source": [
    "För att göra flera saker i samma transaktion så skriver vi först \"begin transaction\", sen det vi vill göra och sist \"commit\". Annars blir varje rad en transaktion, ungefär.  \n",
    "\n",
    "För att databasen ska kunna göra rollbacks vid fel eller avbrott så sparar den alla transaktioner i en loggfil. Med den kan alla transaktioner återskapas, tillsammans med en backup. Loggarna och backuper tar dock mycket plats. Loggar och backuper ska sparas på en annan plats än databasen. "
   ]
  },
  {
   "cell_type": "markdown",
   "id": "85d2b1c6",
   "metadata": {},
   "source": [
    "För att säkerställa att transaktioner är isolerade så används lås och blockeringar. Om en transaktion använder ett dataobjekt så låses den och blockeras för alla andra tills transaktionen är klar. Kan bli prestandaproblem om andra låses ute under längre tid. "
   ]
  },
  {
   "cell_type": "markdown",
   "id": "53b24ff9",
   "metadata": {},
   "source": [
    "Deadlocks är när två transaktioner blockerar varandra, det motsarar en krasch av något sätt. Databashanteraren upptäcker det och avslutar, rullar tillbaka den ena med felmeddelande. Sen finns det något som kallas live lock då sker det i realtid. Det går att lösa med lite \"jitter\" att allt inte sker exakt samtidigt eller efter exakt lika lång tid. "
   ]
  },
  {
   "cell_type": "markdown",
   "id": "0bf1d7ba",
   "metadata": {},
   "source": [
    "RAST"
   ]
  },
  {
   "cell_type": "markdown",
   "id": "f8df1b38",
   "metadata": {},
   "source": [
    "# Integritet och normalisering"
   ]
  },
  {
   "cell_type": "markdown",
   "id": "4555035e",
   "metadata": {},
   "source": [
    "ACID-egenskapen säkerställer dataintegritet. Exempel på integritetsvillkor: \n",
    "- **datatyper**, att ange att en kolumn bara sparar INT så att den inte tar emot annan data som t ex strängar\n",
    "- **not null**, tillåter inte null-värden (motsats: null)\n",
    "- **unique**, får inte innehålla dubbletter (som ett set i python)\n",
    "- **primary key**, \n",
    "- **foreign key**, används som referens mot en annan tabells primärnyckel\n",
    "- **check**, gör en koll på en kolumn för att se om datan är godkänd, ungefär som en where-sats\n",
    "- **default**, om inget anges\n",
    "- **triggers**, t ex automatiskt ange kön efter att ett personnummer angivits (finns olika skolor om det är bra eller inte pga sker saker i bakgrunden som användaren kanske inte är medveten om)\n"
   ]
  },
  {
   "cell_type": "markdown",
   "id": "53c46b82",
   "metadata": {},
   "source": [
    "Dtabasstrukturens grundregel är att *en typ av sak per tabell och en sådan sak per rad*. Normalisering är det största verktyg vi använder för att få bra strukturer. Finns olika normalformer att uppfylla:\n",
    "\n",
    "- 1NF, tabellen ska innehålla atomära värden (1 värde per cell)\n",
    "- 2NF, inga partiella beroenden, dvs primärnyckeln bestämmer alla fälten (säger vilka fält som får ingå). Detta är vanligaste formen. \n",
    "- 3NF, (ANDREW: \"tabellen får bara innehålla data som berör primärnyckeln, resten bryts ut till egna tabeller\"???)\n",
    "\n",
    "*Varje attribut ska representera en fakta om nyckeln, ehla nyckeln, och inget annat än nyckeln.*"
   ]
  }
 ],
 "metadata": {
  "language_info": {
   "name": "python"
  }
 },
 "nbformat": 4,
 "nbformat_minor": 5
}
