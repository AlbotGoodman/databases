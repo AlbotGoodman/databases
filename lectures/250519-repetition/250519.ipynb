{
 "cells": [
  {
   "cell_type": "markdown",
   "id": "920d7a25",
   "metadata": {},
   "source": [
    "# Repetition"
   ]
  },
  {
   "cell_type": "markdown",
   "id": "74066b5c",
   "metadata": {},
   "source": [
    "SQL definierar inte alltid allt som behövs, implementationen kan då bli annorlunda men språket är ungefär-likt.  \n",
    "\n",
    "intro:  \n",
    "- DBMS\n",
    "- RDBMS\n",
    "- queries\n",
    "    - select\n",
    "    - top\n",
    "    - where\n",
    "    - and, or, not (<>)\n",
    "    - in\n",
    "    - between\n",
    "    - like (%, _, [], [^])\n",
    "    - order by\n",
    "    - distinct\n",
    "    - as (aliases)\n",
    "    - union\n",
    "    - case -> when\n",
    "\n",
    "crud:  \n",
    "- insert into\n",
    "- select into\n",
    "- insert into select from\n",
    "- update\n",
    "- delete\n",
    "- upsert (finns inte inbyggt i SQL, olika för dialekter)\n",
    "- truncate\n",
    "- drop\n",
    "\n",
    "aggregation:  \n",
    "- sum, avg, min, max, stdev, string_agg\n",
    "- count\n",
    "- group by\n",
    "- having (som where för group by)\n",
    "\n",
    "data types:  \n",
    "- bit, int, float, datetime2, nvarchar (+ variants)\n",
    "- identity\n",
    "- null\n",
    "- convert / cast\n",
    "- declare\n",
    "- temporära tabeller\n",
    "\n",
    "join:  \n",
    "- relationer\n",
    "- primary & foregin keys\n",
    "- types\n",
    "    - cross\n",
    "    - inner\n",
    "    - full\n",
    "    - left\n",
    "    - right\n",
    "- junction table\n",
    "\n",
    "normalformer:  \n",
    "- 1NF: ingen repetition\n",
    "- 2NF: allt i tabellen ska vara kopplat till enbart primärnyckeln\n",
    "- 3NF: om vi har 2NF på hela databasen så har vi 3NF - ger ACID automatiskt"
   ]
  },
  {
   "cell_type": "markdown",
   "id": "09b22cca",
   "metadata": {},
   "source": [
    "# Tentan"
   ]
  },
  {
   "cell_type": "markdown",
   "id": "ed401ea5",
   "metadata": {},
   "source": [
    "Vi kommer få ha med A4-papper till tentan. "
   ]
  }
 ],
 "metadata": {
  "language_info": {
   "name": "python"
  }
 },
 "nbformat": 4,
 "nbformat_minor": 5
}
