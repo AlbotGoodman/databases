{
 "cells": [
  {
   "cell_type": "markdown",
   "id": "d1eb71e4",
   "metadata": {},
   "source": [
    "Roller är sätt att tilldela rättigheter för olika användare. \n",
    "\n",
    "GRANT persmission ... kan användas för att tilldela. db_datareader är en rimlig roll för en som bara ska kunna läsa data (select). "
   ]
  },
  {
   "cell_type": "markdown",
   "id": "04ce51ad",
   "metadata": {},
   "source": [
    "Host Security - använder den vanliga användaren på datorn  \n",
    "Database Security - ska ha användare med lösenord på databasen\n",
    "Trust Security - ingen säkerhet, släpper in alla"
   ]
  },
  {
   "cell_type": "markdown",
   "id": "6982716b",
   "metadata": {},
   "source": [
    "## ER-diagram\n",
    "\n",
    "### SSMS\n",
    "\n",
    "I SSMS måste vi köra: \n",
    "\n",
    "```sql\n",
    "ALTER AUTHORIZATION ON DATABASE:: everyloop TO [sa]\n",
    "```\n",
    "\n",
    "Då finns en mapp med diagram som går att högerklicka på för att skapa. \n",
    "\n",
    "### VS Code\n",
    "\n",
    "Definiera hela databasen via SQLAlchemy för att kunna göra ett ER Diagram. Detta är **OPTIONAL** pga hur svårt det är. "
   ]
  }
 ],
 "metadata": {
  "language_info": {
   "name": "python"
  }
 },
 "nbformat": 4,
 "nbformat_minor": 5
}
