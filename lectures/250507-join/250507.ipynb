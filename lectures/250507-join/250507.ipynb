{
 "cells": [
  {
   "cell_type": "markdown",
   "id": "cfb830cb",
   "metadata": {},
   "source": [
    "Det vanliga är att vi har flera tabeller och aggregerar från båda i en relationsdatabas. Vi har nämnt att det finns primary keys, det finns också foreign keys då är det en kolumn som pekar på en kolumn i en annan tabell, en relation. \n",
    "\n",
    "T ex i stället för att ha en stor tabell med all data om böcker där mycket data upprepar sig (t ex uppgifter om författaren) så kanske författardatan bör ligga i en separat tabell och få unika ID:n som kan refereras till i boktabellen. Då blir författarID foreign key. "
   ]
  },
  {
   "cell_type": "markdown",
   "id": "36a69bd9",
   "metadata": {},
   "source": [
    "Olika joins:  \n",
    "- cross, \"för alla till vänster listar vi alla till höger\"\n",
    "- **inner**, \"bara element som matchar joinas\" (**default**)\n",
    "- full, \"alla element matchas\" (tillåter NULL-värden)\n",
    "- left, \"allt ifrån vänstra tabellen ska med\" (kan bli NULL i högra tabellen)\n",
    "- right, \"allt ifrån högra tabellen ska med\" (kan bli NULL i vänstra tabellen)"
   ]
  },
  {
   "cell_type": "markdown",
   "id": "266b15c6",
   "metadata": {},
   "source": [
    "I ett exempel med länder och städer så hade det kunnat se ut såhär: "
   ]
  },
  {
   "cell_type": "code",
   "execution_count": null,
   "id": "9078445c",
   "metadata": {
    "vscode": {
     "languageId": "sql"
    }
   },
   "outputs": [],
   "source": [
    "select * from [länder] as l \n",
    "join [städer] as s on s.landsID = l.landsID;"
   ]
  }
 ],
 "metadata": {
  "language_info": {
   "name": "python"
  }
 },
 "nbformat": 4,
 "nbformat_minor": 5
}
